{
 "cells": [
  {
   "cell_type": "markdown",
   "metadata": {},
   "source": [
    "# LangSmith Usage: Push and Pull Prompts with Versions\n",
    "\n",
    "This notebook demonstrates how to use LangSmith to push and pull prompt versions programmatically."
   ]
  },
  {
   "cell_type": "code",
   "execution_count": 21,
   "metadata": {},
   "outputs": [],
   "source": [
    "## Quickstarts https://docs.smith.langchain.com/prompt_engineering/how_to_guides/manage_prompts_programatically#list-delete-and-like-prompts\n",
    "## Concepts https://docs.smith.langchain.com/prompt_engineering/concepts"
   ]
  },
  {
   "cell_type": "code",
   "execution_count": 8,
   "metadata": {},
   "outputs": [
    {
     "name": "stdout",
     "output_type": "stream",
     "text": [
      "Collecting ipython==9.3.0 (from -r ../requirements.txt (line 1))\n",
      "  Using cached ipython-9.3.0-py3-none-any.whl.metadata (4.4 kB)\n",
      "Requirement already satisfied: ipykernel==6.29.5 in /Users/jokersmith/Documents/Papers/PA_Scaling/Scaling/.venv/lib/python3.11/site-packages (from -r ../requirements.txt (line 2)) (6.29.5)\n",
      "Collecting numpy==2.3.1 (from -r ../requirements.txt (line 3))\n",
      "  Using cached numpy-2.3.1-cp311-cp311-macosx_10_9_x86_64.whl.metadata (62 kB)\n",
      "Collecting pandas==2.3.0 (from -r ../requirements.txt (line 4))\n",
      "  Using cached pandas-2.3.0-cp311-cp311-macosx_10_9_x86_64.whl.metadata (91 kB)\n",
      "Collecting langchain==0.3.26 (from -r ../requirements.txt (line 5))\n",
      "  Using cached langchain-0.3.26-py3-none-any.whl.metadata (7.8 kB)\n",
      "Requirement already satisfied: langchain-core==0.3.68 in /Users/jokersmith/Documents/Papers/PA_Scaling/Scaling/.venv/lib/python3.11/site-packages (from -r ../requirements.txt (line 6)) (0.3.68)\n",
      "Requirement already satisfied: langchain-openai==0.3.27 in /Users/jokersmith/Documents/Papers/PA_Scaling/Scaling/.venv/lib/python3.11/site-packages (from -r ../requirements.txt (line 7)) (0.3.27)\n",
      "Requirement already satisfied: langchain-anthropic==0.3.17 in /Users/jokersmith/Documents/Papers/PA_Scaling/Scaling/.venv/lib/python3.11/site-packages (from -r ../requirements.txt (line 8)) (0.3.17)\n",
      "Collecting scikit-learn==1.7.0 (from -r ../requirements.txt (line 9))\n",
      "  Using cached scikit_learn-1.7.0-cp311-cp311-macosx_10_9_x86_64.whl.metadata (31 kB)\n",
      "Collecting matplotlib==3.10.3 (from -r ../requirements.txt (line 10))\n",
      "  Using cached matplotlib-3.10.3-cp311-cp311-macosx_10_12_x86_64.whl.metadata (11 kB)\n",
      "Collecting seaborn==0.13.2 (from -r ../requirements.txt (line 11))\n",
      "  Using cached seaborn-0.13.2-py3-none-any.whl.metadata (5.4 kB)\n",
      "Requirement already satisfied: langsmith==0.4.4 in /Users/jokersmith/Documents/Papers/PA_Scaling/Scaling/.venv/lib/python3.11/site-packages (from -r ../requirements.txt (line 12)) (0.4.4)\n",
      "Requirement already satisfied: dotenv==0.9.9 in /Users/jokersmith/Documents/Papers/PA_Scaling/Scaling/.venv/lib/python3.11/site-packages (from -r ../requirements.txt (line 13)) (0.9.9)\n",
      "Requirement already satisfied: decorator in /Users/jokersmith/Documents/Papers/PA_Scaling/Scaling/.venv/lib/python3.11/site-packages (from ipython==9.3.0->-r ../requirements.txt (line 1)) (5.2.1)\n",
      "Requirement already satisfied: ipython-pygments-lexers in /Users/jokersmith/Documents/Papers/PA_Scaling/Scaling/.venv/lib/python3.11/site-packages (from ipython==9.3.0->-r ../requirements.txt (line 1)) (1.1.1)\n",
      "Requirement already satisfied: jedi>=0.16 in /Users/jokersmith/Documents/Papers/PA_Scaling/Scaling/.venv/lib/python3.11/site-packages (from ipython==9.3.0->-r ../requirements.txt (line 1)) (0.19.2)\n",
      "Requirement already satisfied: matplotlib-inline in /Users/jokersmith/Documents/Papers/PA_Scaling/Scaling/.venv/lib/python3.11/site-packages (from ipython==9.3.0->-r ../requirements.txt (line 1)) (0.1.7)\n",
      "Requirement already satisfied: pexpect>4.3 in /Users/jokersmith/Documents/Papers/PA_Scaling/Scaling/.venv/lib/python3.11/site-packages (from ipython==9.3.0->-r ../requirements.txt (line 1)) (4.9.0)\n",
      "Requirement already satisfied: prompt_toolkit<3.1.0,>=3.0.41 in /Users/jokersmith/Documents/Papers/PA_Scaling/Scaling/.venv/lib/python3.11/site-packages (from ipython==9.3.0->-r ../requirements.txt (line 1)) (3.0.51)\n",
      "Requirement already satisfied: pygments>=2.4.0 in /Users/jokersmith/Documents/Papers/PA_Scaling/Scaling/.venv/lib/python3.11/site-packages (from ipython==9.3.0->-r ../requirements.txt (line 1)) (2.19.2)\n",
      "Requirement already satisfied: stack_data in /Users/jokersmith/Documents/Papers/PA_Scaling/Scaling/.venv/lib/python3.11/site-packages (from ipython==9.3.0->-r ../requirements.txt (line 1)) (0.6.3)\n",
      "Requirement already satisfied: traitlets>=5.13.0 in /Users/jokersmith/Documents/Papers/PA_Scaling/Scaling/.venv/lib/python3.11/site-packages (from ipython==9.3.0->-r ../requirements.txt (line 1)) (5.14.3)\n",
      "Requirement already satisfied: typing_extensions>=4.6 in /Users/jokersmith/Documents/Papers/PA_Scaling/Scaling/.venv/lib/python3.11/site-packages (from ipython==9.3.0->-r ../requirements.txt (line 1)) (4.14.1)\n",
      "Requirement already satisfied: appnope in /Users/jokersmith/Documents/Papers/PA_Scaling/Scaling/.venv/lib/python3.11/site-packages (from ipykernel==6.29.5->-r ../requirements.txt (line 2)) (0.1.4)\n",
      "Requirement already satisfied: comm>=0.1.1 in /Users/jokersmith/Documents/Papers/PA_Scaling/Scaling/.venv/lib/python3.11/site-packages (from ipykernel==6.29.5->-r ../requirements.txt (line 2)) (0.2.2)\n",
      "Requirement already satisfied: debugpy>=1.6.5 in /Users/jokersmith/Documents/Papers/PA_Scaling/Scaling/.venv/lib/python3.11/site-packages (from ipykernel==6.29.5->-r ../requirements.txt (line 2)) (1.8.14)\n",
      "Requirement already satisfied: jupyter-client>=6.1.12 in /Users/jokersmith/Documents/Papers/PA_Scaling/Scaling/.venv/lib/python3.11/site-packages (from ipykernel==6.29.5->-r ../requirements.txt (line 2)) (8.6.3)\n",
      "Requirement already satisfied: jupyter-core!=5.0.*,>=4.12 in /Users/jokersmith/Documents/Papers/PA_Scaling/Scaling/.venv/lib/python3.11/site-packages (from ipykernel==6.29.5->-r ../requirements.txt (line 2)) (5.8.1)\n",
      "Requirement already satisfied: nest-asyncio in /Users/jokersmith/Documents/Papers/PA_Scaling/Scaling/.venv/lib/python3.11/site-packages (from ipykernel==6.29.5->-r ../requirements.txt (line 2)) (1.6.0)\n",
      "Requirement already satisfied: packaging in /Users/jokersmith/Documents/Papers/PA_Scaling/Scaling/.venv/lib/python3.11/site-packages (from ipykernel==6.29.5->-r ../requirements.txt (line 2)) (24.2)\n",
      "Requirement already satisfied: psutil in /Users/jokersmith/Documents/Papers/PA_Scaling/Scaling/.venv/lib/python3.11/site-packages (from ipykernel==6.29.5->-r ../requirements.txt (line 2)) (7.0.0)\n",
      "Requirement already satisfied: pyzmq>=24 in /Users/jokersmith/Documents/Papers/PA_Scaling/Scaling/.venv/lib/python3.11/site-packages (from ipykernel==6.29.5->-r ../requirements.txt (line 2)) (27.0.0)\n",
      "Requirement already satisfied: tornado>=6.1 in /Users/jokersmith/Documents/Papers/PA_Scaling/Scaling/.venv/lib/python3.11/site-packages (from ipykernel==6.29.5->-r ../requirements.txt (line 2)) (6.5.1)\n",
      "Requirement already satisfied: python-dateutil>=2.8.2 in /Users/jokersmith/Documents/Papers/PA_Scaling/Scaling/.venv/lib/python3.11/site-packages (from pandas==2.3.0->-r ../requirements.txt (line 4)) (2.9.0.post0)\n",
      "Collecting pytz>=2020.1 (from pandas==2.3.0->-r ../requirements.txt (line 4))\n",
      "  Using cached pytz-2025.2-py2.py3-none-any.whl.metadata (22 kB)\n",
      "Collecting tzdata>=2022.7 (from pandas==2.3.0->-r ../requirements.txt (line 4))\n",
      "  Using cached tzdata-2025.2-py2.py3-none-any.whl.metadata (1.4 kB)\n",
      "Collecting langchain-text-splitters<1.0.0,>=0.3.8 (from langchain==0.3.26->-r ../requirements.txt (line 5))\n",
      "  Using cached langchain_text_splitters-0.3.8-py3-none-any.whl.metadata (1.9 kB)\n",
      "Requirement already satisfied: pydantic<3.0.0,>=2.7.4 in /Users/jokersmith/Documents/Papers/PA_Scaling/Scaling/.venv/lib/python3.11/site-packages (from langchain==0.3.26->-r ../requirements.txt (line 5)) (2.11.7)\n",
      "Collecting SQLAlchemy<3,>=1.4 (from langchain==0.3.26->-r ../requirements.txt (line 5))\n",
      "  Using cached sqlalchemy-2.0.41-cp311-cp311-macosx_10_9_x86_64.whl.metadata (9.6 kB)\n",
      "Requirement already satisfied: requests<3,>=2 in /Users/jokersmith/Documents/Papers/PA_Scaling/Scaling/.venv/lib/python3.11/site-packages (from langchain==0.3.26->-r ../requirements.txt (line 5)) (2.32.4)\n",
      "Requirement already satisfied: PyYAML>=5.3 in /Users/jokersmith/Documents/Papers/PA_Scaling/Scaling/.venv/lib/python3.11/site-packages (from langchain==0.3.26->-r ../requirements.txt (line 5)) (6.0.2)\n",
      "Requirement already satisfied: tenacity!=8.4.0,<10.0.0,>=8.1.0 in /Users/jokersmith/Documents/Papers/PA_Scaling/Scaling/.venv/lib/python3.11/site-packages (from langchain-core==0.3.68->-r ../requirements.txt (line 6)) (9.1.2)\n",
      "Requirement already satisfied: jsonpatch<2.0,>=1.33 in /Users/jokersmith/Documents/Papers/PA_Scaling/Scaling/.venv/lib/python3.11/site-packages (from langchain-core==0.3.68->-r ../requirements.txt (line 6)) (1.33)\n",
      "Requirement already satisfied: openai<2.0.0,>=1.86.0 in /Users/jokersmith/Documents/Papers/PA_Scaling/Scaling/.venv/lib/python3.11/site-packages (from langchain-openai==0.3.27->-r ../requirements.txt (line 7)) (1.93.3)\n",
      "Requirement already satisfied: tiktoken<1,>=0.7 in /Users/jokersmith/Documents/Papers/PA_Scaling/Scaling/.venv/lib/python3.11/site-packages (from langchain-openai==0.3.27->-r ../requirements.txt (line 7)) (0.9.0)\n",
      "Requirement already satisfied: anthropic<1,>=0.57.0 in /Users/jokersmith/Documents/Papers/PA_Scaling/Scaling/.venv/lib/python3.11/site-packages (from langchain-anthropic==0.3.17->-r ../requirements.txt (line 8)) (0.57.1)\n",
      "Collecting scipy>=1.8.0 (from scikit-learn==1.7.0->-r ../requirements.txt (line 9))\n",
      "  Downloading scipy-1.16.0-cp311-cp311-macosx_10_14_x86_64.whl.metadata (61 kB)\n",
      "Collecting joblib>=1.2.0 (from scikit-learn==1.7.0->-r ../requirements.txt (line 9))\n",
      "  Using cached joblib-1.5.1-py3-none-any.whl.metadata (5.6 kB)\n",
      "Collecting threadpoolctl>=3.1.0 (from scikit-learn==1.7.0->-r ../requirements.txt (line 9))\n",
      "  Using cached threadpoolctl-3.6.0-py3-none-any.whl.metadata (13 kB)\n",
      "Collecting contourpy>=1.0.1 (from matplotlib==3.10.3->-r ../requirements.txt (line 10))\n",
      "  Using cached contourpy-1.3.2-cp311-cp311-macosx_10_9_x86_64.whl.metadata (5.5 kB)\n",
      "Collecting cycler>=0.10 (from matplotlib==3.10.3->-r ../requirements.txt (line 10))\n",
      "  Using cached cycler-0.12.1-py3-none-any.whl.metadata (3.8 kB)\n",
      "Collecting fonttools>=4.22.0 (from matplotlib==3.10.3->-r ../requirements.txt (line 10))\n",
      "  Downloading fonttools-4.58.5-cp311-cp311-macosx_10_9_x86_64.whl.metadata (106 kB)\n",
      "Collecting kiwisolver>=1.3.1 (from matplotlib==3.10.3->-r ../requirements.txt (line 10))\n",
      "  Using cached kiwisolver-1.4.8-cp311-cp311-macosx_10_9_x86_64.whl.metadata (6.2 kB)\n",
      "Collecting pillow>=8 (from matplotlib==3.10.3->-r ../requirements.txt (line 10))\n",
      "  Downloading pillow-11.3.0-cp311-cp311-macosx_10_10_x86_64.whl.metadata (9.0 kB)\n",
      "Collecting pyparsing>=2.3.1 (from matplotlib==3.10.3->-r ../requirements.txt (line 10))\n",
      "  Using cached pyparsing-3.2.3-py3-none-any.whl.metadata (5.0 kB)\n",
      "Requirement already satisfied: httpx<1,>=0.23.0 in /Users/jokersmith/Documents/Papers/PA_Scaling/Scaling/.venv/lib/python3.11/site-packages (from langsmith==0.4.4->-r ../requirements.txt (line 12)) (0.28.1)\n",
      "Requirement already satisfied: orjson<4.0.0,>=3.9.14 in /Users/jokersmith/Documents/Papers/PA_Scaling/Scaling/.venv/lib/python3.11/site-packages (from langsmith==0.4.4->-r ../requirements.txt (line 12)) (3.10.18)\n",
      "Requirement already satisfied: requests-toolbelt<2.0.0,>=1.0.0 in /Users/jokersmith/Documents/Papers/PA_Scaling/Scaling/.venv/lib/python3.11/site-packages (from langsmith==0.4.4->-r ../requirements.txt (line 12)) (1.0.0)\n",
      "Requirement already satisfied: zstandard<0.24.0,>=0.23.0 in /Users/jokersmith/Documents/Papers/PA_Scaling/Scaling/.venv/lib/python3.11/site-packages (from langsmith==0.4.4->-r ../requirements.txt (line 12)) (0.23.0)\n",
      "Requirement already satisfied: python-dotenv in /Users/jokersmith/Documents/Papers/PA_Scaling/Scaling/.venv/lib/python3.11/site-packages (from dotenv==0.9.9->-r ../requirements.txt (line 13)) (1.1.1)\n",
      "Requirement already satisfied: anyio<5,>=3.5.0 in /Users/jokersmith/Documents/Papers/PA_Scaling/Scaling/.venv/lib/python3.11/site-packages (from anthropic<1,>=0.57.0->langchain-anthropic==0.3.17->-r ../requirements.txt (line 8)) (4.9.0)\n",
      "Requirement already satisfied: distro<2,>=1.7.0 in /Users/jokersmith/Documents/Papers/PA_Scaling/Scaling/.venv/lib/python3.11/site-packages (from anthropic<1,>=0.57.0->langchain-anthropic==0.3.17->-r ../requirements.txt (line 8)) (1.9.0)\n",
      "Requirement already satisfied: jiter<1,>=0.4.0 in /Users/jokersmith/Documents/Papers/PA_Scaling/Scaling/.venv/lib/python3.11/site-packages (from anthropic<1,>=0.57.0->langchain-anthropic==0.3.17->-r ../requirements.txt (line 8)) (0.10.0)\n",
      "Requirement already satisfied: sniffio in /Users/jokersmith/Documents/Papers/PA_Scaling/Scaling/.venv/lib/python3.11/site-packages (from anthropic<1,>=0.57.0->langchain-anthropic==0.3.17->-r ../requirements.txt (line 8)) (1.3.1)\n",
      "Requirement already satisfied: idna>=2.8 in /Users/jokersmith/Documents/Papers/PA_Scaling/Scaling/.venv/lib/python3.11/site-packages (from anyio<5,>=3.5.0->anthropic<1,>=0.57.0->langchain-anthropic==0.3.17->-r ../requirements.txt (line 8)) (3.10)\n",
      "Requirement already satisfied: certifi in /Users/jokersmith/Documents/Papers/PA_Scaling/Scaling/.venv/lib/python3.11/site-packages (from httpx<1,>=0.23.0->langsmith==0.4.4->-r ../requirements.txt (line 12)) (2025.7.9)\n",
      "Requirement already satisfied: httpcore==1.* in /Users/jokersmith/Documents/Papers/PA_Scaling/Scaling/.venv/lib/python3.11/site-packages (from httpx<1,>=0.23.0->langsmith==0.4.4->-r ../requirements.txt (line 12)) (1.0.9)\n",
      "Requirement already satisfied: h11>=0.16 in /Users/jokersmith/Documents/Papers/PA_Scaling/Scaling/.venv/lib/python3.11/site-packages (from httpcore==1.*->httpx<1,>=0.23.0->langsmith==0.4.4->-r ../requirements.txt (line 12)) (0.16.0)\n",
      "Requirement already satisfied: jsonpointer>=1.9 in /Users/jokersmith/Documents/Papers/PA_Scaling/Scaling/.venv/lib/python3.11/site-packages (from jsonpatch<2.0,>=1.33->langchain-core==0.3.68->-r ../requirements.txt (line 6)) (3.0.0)\n",
      "Requirement already satisfied: tqdm>4 in /Users/jokersmith/Documents/Papers/PA_Scaling/Scaling/.venv/lib/python3.11/site-packages (from openai<2.0.0,>=1.86.0->langchain-openai==0.3.27->-r ../requirements.txt (line 7)) (4.67.1)\n",
      "Requirement already satisfied: wcwidth in /Users/jokersmith/Documents/Papers/PA_Scaling/Scaling/.venv/lib/python3.11/site-packages (from prompt_toolkit<3.1.0,>=3.0.41->ipython==9.3.0->-r ../requirements.txt (line 1)) (0.2.13)\n",
      "Requirement already satisfied: annotated-types>=0.6.0 in /Users/jokersmith/Documents/Papers/PA_Scaling/Scaling/.venv/lib/python3.11/site-packages (from pydantic<3.0.0,>=2.7.4->langchain==0.3.26->-r ../requirements.txt (line 5)) (0.7.0)\n",
      "Requirement already satisfied: pydantic-core==2.33.2 in /Users/jokersmith/Documents/Papers/PA_Scaling/Scaling/.venv/lib/python3.11/site-packages (from pydantic<3.0.0,>=2.7.4->langchain==0.3.26->-r ../requirements.txt (line 5)) (2.33.2)\n",
      "Requirement already satisfied: typing-inspection>=0.4.0 in /Users/jokersmith/Documents/Papers/PA_Scaling/Scaling/.venv/lib/python3.11/site-packages (from pydantic<3.0.0,>=2.7.4->langchain==0.3.26->-r ../requirements.txt (line 5)) (0.4.1)\n",
      "Requirement already satisfied: charset_normalizer<4,>=2 in /Users/jokersmith/Documents/Papers/PA_Scaling/Scaling/.venv/lib/python3.11/site-packages (from requests<3,>=2->langchain==0.3.26->-r ../requirements.txt (line 5)) (3.4.2)\n",
      "Requirement already satisfied: urllib3<3,>=1.21.1 in /Users/jokersmith/Documents/Papers/PA_Scaling/Scaling/.venv/lib/python3.11/site-packages (from requests<3,>=2->langchain==0.3.26->-r ../requirements.txt (line 5)) (2.5.0)\n",
      "Collecting greenlet>=1 (from SQLAlchemy<3,>=1.4->langchain==0.3.26->-r ../requirements.txt (line 5))\n",
      "  Using cached greenlet-3.2.3-cp311-cp311-macosx_11_0_universal2.whl.metadata (4.1 kB)\n",
      "Requirement already satisfied: regex>=2022.1.18 in /Users/jokersmith/Documents/Papers/PA_Scaling/Scaling/.venv/lib/python3.11/site-packages (from tiktoken<1,>=0.7->langchain-openai==0.3.27->-r ../requirements.txt (line 7)) (2024.11.6)\n",
      "Requirement already satisfied: parso<0.9.0,>=0.8.4 in /Users/jokersmith/Documents/Papers/PA_Scaling/Scaling/.venv/lib/python3.11/site-packages (from jedi>=0.16->ipython==9.3.0->-r ../requirements.txt (line 1)) (0.8.4)\n",
      "Requirement already satisfied: platformdirs>=2.5 in /Users/jokersmith/Documents/Papers/PA_Scaling/Scaling/.venv/lib/python3.11/site-packages (from jupyter-core!=5.0.*,>=4.12->ipykernel==6.29.5->-r ../requirements.txt (line 2)) (4.3.8)\n",
      "Requirement already satisfied: ptyprocess>=0.5 in /Users/jokersmith/Documents/Papers/PA_Scaling/Scaling/.venv/lib/python3.11/site-packages (from pexpect>4.3->ipython==9.3.0->-r ../requirements.txt (line 1)) (0.7.0)\n",
      "Requirement already satisfied: six>=1.5 in /Users/jokersmith/Documents/Papers/PA_Scaling/Scaling/.venv/lib/python3.11/site-packages (from python-dateutil>=2.8.2->pandas==2.3.0->-r ../requirements.txt (line 4)) (1.17.0)\n",
      "Requirement already satisfied: executing>=1.2.0 in /Users/jokersmith/Documents/Papers/PA_Scaling/Scaling/.venv/lib/python3.11/site-packages (from stack_data->ipython==9.3.0->-r ../requirements.txt (line 1)) (2.2.0)\n",
      "Requirement already satisfied: asttokens>=2.1.0 in /Users/jokersmith/Documents/Papers/PA_Scaling/Scaling/.venv/lib/python3.11/site-packages (from stack_data->ipython==9.3.0->-r ../requirements.txt (line 1)) (3.0.0)\n",
      "Requirement already satisfied: pure-eval in /Users/jokersmith/Documents/Papers/PA_Scaling/Scaling/.venv/lib/python3.11/site-packages (from stack_data->ipython==9.3.0->-r ../requirements.txt (line 1)) (0.2.3)\n",
      "Using cached ipython-9.3.0-py3-none-any.whl (605 kB)\n",
      "Using cached numpy-2.3.1-cp311-cp311-macosx_10_9_x86_64.whl (21.2 MB)\n",
      "Using cached pandas-2.3.0-cp311-cp311-macosx_10_9_x86_64.whl (11.6 MB)\n",
      "Using cached langchain-0.3.26-py3-none-any.whl (1.0 MB)\n",
      "Using cached scikit_learn-1.7.0-cp311-cp311-macosx_10_9_x86_64.whl (11.7 MB)\n",
      "Using cached matplotlib-3.10.3-cp311-cp311-macosx_10_12_x86_64.whl (8.2 MB)\n",
      "Using cached seaborn-0.13.2-py3-none-any.whl (294 kB)\n",
      "Using cached langchain_text_splitters-0.3.8-py3-none-any.whl (32 kB)\n",
      "Using cached sqlalchemy-2.0.41-cp311-cp311-macosx_10_9_x86_64.whl (2.1 MB)\n",
      "Using cached contourpy-1.3.2-cp311-cp311-macosx_10_9_x86_64.whl (269 kB)\n",
      "Using cached cycler-0.12.1-py3-none-any.whl (8.3 kB)\n",
      "Downloading fonttools-4.58.5-cp311-cp311-macosx_10_9_x86_64.whl (2.3 MB)\n",
      "\u001b[2K   \u001b[90m━━━━━━━━━━━━━━━━━━━━━━━━━━━━━━━━━━━━━━━━\u001b[0m \u001b[32m2.3/2.3 MB\u001b[0m \u001b[31m11.1 MB/s\u001b[0m eta \u001b[36m0:00:00\u001b[0m\n",
      "\u001b[?25hUsing cached greenlet-3.2.3-cp311-cp311-macosx_11_0_universal2.whl (270 kB)\n",
      "Using cached joblib-1.5.1-py3-none-any.whl (307 kB)\n",
      "Using cached kiwisolver-1.4.8-cp311-cp311-macosx_10_9_x86_64.whl (66 kB)\n",
      "Downloading pillow-11.3.0-cp311-cp311-macosx_10_10_x86_64.whl (5.3 MB)\n",
      "\u001b[2K   \u001b[90m━━━━━━━━━━━━━━━━━━━━━━━━━━━━━━━━━━━━━━━━\u001b[0m \u001b[32m5.3/5.3 MB\u001b[0m \u001b[31m66.6 MB/s\u001b[0m eta \u001b[36m0:00:00\u001b[0m\n",
      "\u001b[?25hUsing cached pyparsing-3.2.3-py3-none-any.whl (111 kB)\n",
      "Using cached pytz-2025.2-py2.py3-none-any.whl (509 kB)\n",
      "Downloading scipy-1.16.0-cp311-cp311-macosx_10_14_x86_64.whl (36.4 MB)\n",
      "\u001b[2K   \u001b[90m━━━━━━━━━━━━━━━━━━━━━━━━━━━━━━━━━━━━━━━━\u001b[0m \u001b[32m36.4/36.4 MB\u001b[0m \u001b[31m34.1 MB/s\u001b[0m eta \u001b[36m0:00:00\u001b[0m00:01\u001b[0m00:01\u001b[0m\n",
      "\u001b[?25hUsing cached threadpoolctl-3.6.0-py3-none-any.whl (18 kB)\n",
      "Using cached tzdata-2025.2-py2.py3-none-any.whl (347 kB)\n",
      "Installing collected packages: pytz, tzdata, threadpoolctl, pyparsing, pillow, numpy, kiwisolver, joblib, greenlet, fonttools, cycler, SQLAlchemy, scipy, pandas, ipython, contourpy, scikit-learn, matplotlib, seaborn, langchain-text-splitters, langchain\n",
      "\u001b[2K  Attempting uninstall: ipython━\u001b[0m\u001b[91m╸\u001b[0m\u001b[90m━━━━━━━━━━━━━━━\u001b[0m \u001b[32m13/21\u001b[0m [pandas]emy]\n",
      "\u001b[2K    Found existing installation: ipython 9.4.0m━━━━━━━━━━━━━━━\u001b[0m \u001b[32m13/21\u001b[0m [pandas]\n",
      "\u001b[2K    Uninstalling ipython-9.4.0:━━━\u001b[0m\u001b[91m╸\u001b[0m\u001b[90m━━━━━━━━━━━━━\u001b[0m \u001b[32m14/21\u001b[0m [ipython]\n",
      "\u001b[2K      Successfully uninstalled ipython-9.4.0\u001b[90m━━━━━━━━━━━━━\u001b[0m \u001b[32m14/21\u001b[0m [ipython]\n",
      "\u001b[2K   \u001b[90m━━━━━━━━━━━━━━━━━━━━━━━━━━━━━━━━━━━━━━━━\u001b[0m \u001b[32m21/21\u001b[0m [langchain]21\u001b[0m [langchain]]n]\n",
      "\u001b[1A\u001b[2KSuccessfully installed SQLAlchemy-2.0.41 contourpy-1.3.2 cycler-0.12.1 fonttools-4.58.5 greenlet-3.2.3 ipython-9.3.0 joblib-1.5.1 kiwisolver-1.4.8 langchain-0.3.26 langchain-text-splitters-0.3.8 matplotlib-3.10.3 numpy-2.3.1 pandas-2.3.0 pillow-11.3.0 pyparsing-3.2.3 pytz-2025.2 scikit-learn-1.7.0 scipy-1.16.0 seaborn-0.13.2 threadpoolctl-3.6.0 tzdata-2025.2\n"
     ]
    }
   ],
   "source": [
    "! pip install -U -r ../requirements.txt"
   ]
  },
  {
   "cell_type": "code",
   "execution_count": 2,
   "metadata": {},
   "outputs": [
    {
     "data": {
      "text/plain": [
       "True"
      ]
     },
     "execution_count": 2,
     "metadata": {},
     "output_type": "execute_result"
    }
   ],
   "source": [
    "# Import required libraries\n",
    "from langsmith import Client\n",
    "from langchain_core.prompts import ChatPromptTemplate, PromptTemplate\n",
    "from langchain_openai import ChatOpenAI\n",
    "from dotenv import load_dotenv\n",
    "import os\n",
    "\n",
    "# Load environment variables\n",
    "load_dotenv()"
   ]
  },
  {
   "cell_type": "code",
   "execution_count": 3,
   "metadata": {},
   "outputs": [
    {
     "name": "stdout",
     "output_type": "stream",
     "text": [
      "LangSmith client initialized successfully\n"
     ]
    }
   ],
   "source": [
    "# Initialize LangSmith client\n",
    "client = Client()\n",
    "\n",
    "# Verify connection\n",
    "print(\"LangSmith client initialized successfully\")"
   ]
  },
  {
   "cell_type": "markdown",
   "metadata": {},
   "source": [
    "## Push Prompts to LangSmith"
   ]
  },
  {
   "cell_type": "code",
   "execution_count": 4,
   "metadata": {},
   "outputs": [
    {
     "name": "stdout",
     "output_type": "stream",
     "text": [
      "Prompt pushed successfully: https://smith.langchain.com/prompts/political-analysis-simple/975ddf50?organizationId=ea02ea98-db62-5de0-bda4-16991a640a1b\n"
     ]
    }
   ],
   "source": [
    "# Create a simple prompt template\n",
    "simple_prompt = PromptTemplate.from_template(\n",
    "    \"Analyze the following text for political ideology: {text}\"\n",
    ")\n",
    "\n",
    "# Push the prompt to LangSmith\n",
    "url = client.push_prompt(\"political-analysis-simple\", object=simple_prompt)\n",
    "print(f\"Prompt pushed successfully: {url}\")"
   ]
  },
  {
   "cell_type": "code",
   "execution_count": 5,
   "metadata": {},
   "outputs": [
    {
     "name": "stdout",
     "output_type": "stream",
     "text": [
      "Chat prompt pushed successfully: https://smith.langchain.com/prompts/political-analysis-chat/123d4031?organizationId=ea02ea98-db62-5de0-bda4-16991a640a1b\n"
     ]
    }
   ],
   "source": [
    "# Create a more complex chat prompt template\n",
    "chat_prompt = ChatPromptTemplate.from_messages([\n",
    "    (\"system\", \"You are an expert political analyst. Analyze the provided text for ideological positioning on multiple dimensions.\"),\n",
    "    (\"human\", \"Please analyze this text for political ideology across {dimensions} dimensions: {text}\")\n",
    "])\n",
    "\n",
    "# Push the chat prompt\n",
    "url = client.push_prompt(\"political-analysis-chat\", object=chat_prompt)\n",
    "print(f\"Chat prompt pushed successfully: {url}\")"
   ]
  },
  {
   "cell_type": "code",
   "execution_count": 9,
   "metadata": {},
   "outputs": [
    {
     "name": "stdout",
     "output_type": "stream",
     "text": [
      "Prompt with model config pushed: https://smith.langchain.com/prompts/political-ideology-rating/3b4ad653?organizationId=ea02ea98-db62-5de0-bda4-16991a640a1b\n"
     ]
    }
   ],
   "source": [
    "# Create a prompt with model configuration\n",
    "from langchain.schema.runnable import RunnablePassthrough\n",
    "from langchain_core.output_parsers import StrOutputParser\n",
    "\n",
    "# Create a prompt with OpenAI model configuration\n",
    "political_prompt = ChatPromptTemplate.from_messages([\n",
    "    (\"system\", \"You are a political scientist specializing in ideology measurement. Provide structured analysis.\"),\n",
    "    (\"human\", \"Rate the following text on a scale of 1-10 for {ideology_type}: {text}\")\n",
    "])\n",
    "\n",
    "# Create a chain with model configuration\n",
    "llm = ChatOpenAI(model=\"gpt-3.5-turbo\", temperature=0.1)\n",
    "chain = political_prompt | llm | StrOutputParser()\n",
    "\n",
    "# Push the prompt with model configuration\n",
    "url = client.push_prompt(\"political-ideology-rating\", object=political_prompt)\n",
    "print(f\"Prompt with model config pushed: {url}\")"
   ]
  },
  {
   "cell_type": "markdown",
   "metadata": {},
   "source": [
    "## Pull Prompts from LangSmith"
   ]
  },
  {
   "cell_type": "code",
   "execution_count": 10,
   "metadata": {},
   "outputs": [
    {
     "name": "stdout",
     "output_type": "stream",
     "text": [
      "Pulled prompt:\n",
      "Analyze the following text for political ideology: Sample political text\n"
     ]
    }
   ],
   "source": [
    "# Pull the latest version of a prompt\n",
    "pulled_prompt = client.pull_prompt(\"political-analysis-simple\")\n",
    "print(\"Pulled prompt:\")\n",
    "print(pulled_prompt.format(text=\"Sample political text\"))"
   ]
  },
  {
   "cell_type": "code",
   "execution_count": 14,
   "metadata": {},
   "outputs": [
    {
     "name": "stdout",
     "output_type": "stream",
     "text": [
      "Available prompts: repos=[Prompt(repo_handle='political-ideology-rating', description='', readme='', id='c2bfc907-3eaf-4d77-90ae-100e00312994', tenant_id='ea02ea98-db62-5de0-bda4-16991a640a1b', created_at=datetime.datetime(2025, 7, 10, 14, 11, 43, 624023), updated_at=datetime.datetime(2025, 7, 10, 14, 11, 46, 300132), is_public=False, is_archived=False, tags=['ChatPromptTemplate'], original_repo_id=None, upstream_repo_id=None, owner=None, full_name='political-ideology-rating', num_likes=0, num_downloads=0, num_views=0, liked_by_auth_user=False, last_commit_hash='3b4ad6538d2300981cda4a7871024fee7d4b847b5239b701cbc2fdf547b9aa93', num_commits=1, original_repo_full_name=None, upstream_repo_full_name=None), Prompt(repo_handle='political-analysis-chat', description='', readme='', id='2e3e57bd-891e-4314-a7ec-bb196bb7ae36', tenant_id='ea02ea98-db62-5de0-bda4-16991a640a1b', created_at=datetime.datetime(2025, 7, 10, 14, 8, 49, 967877), updated_at=datetime.datetime(2025, 7, 10, 14, 8, 52, 461090), is_public=False, is_archived=False, tags=['ChatPromptTemplate'], original_repo_id=None, upstream_repo_id=None, owner=None, full_name='political-analysis-chat', num_likes=0, num_downloads=0, num_views=0, liked_by_auth_user=False, last_commit_hash='123d40316cf40c75a00230755d0bd74d8253bf75c4fbea091579bfdcab97a4d1', num_commits=1, original_repo_full_name=None, upstream_repo_full_name=None), Prompt(repo_handle='political-analysis-simple', description='', readme='', id='db722961-c339-4ab4-b575-9174fb6dd750', tenant_id='ea02ea98-db62-5de0-bda4-16991a640a1b', created_at=datetime.datetime(2025, 7, 10, 14, 8, 41, 43879), updated_at=datetime.datetime(2025, 7, 10, 14, 8, 42, 467521), is_public=False, is_archived=False, tags=['StringPromptTemplate'], original_repo_id=None, upstream_repo_id=None, owner=None, full_name='political-analysis-simple', num_likes=0, num_downloads=1, num_views=0, liked_by_auth_user=False, last_commit_hash='975ddf50a9297b78696bbc398f2ab9c7c0401ba66ef12c2e41b4e97492909d74', num_commits=1, original_repo_full_name=None, upstream_repo_full_name=None), Prompt(repo_handle='gen-resume2', description='', readme='', id='2b846546-e857-4eaf-bb9b-d5d270dd2d8d', tenant_id='76ff1447-bd29-59b5-9afe-3dba6307ca29', created_at=datetime.datetime(2025, 7, 10, 13, 4, 14, 981120), updated_at=datetime.datetime(2025, 7, 10, 13, 43, 40, 669814), is_public=True, is_archived=False, tags=['ChatPromptTemplate'], original_repo_id=None, upstream_repo_id=None, owner='simotho', full_name='simotho/gen-resume2', num_likes=0, num_downloads=11, num_views=7, liked_by_auth_user=False, last_commit_hash='5d727fb64bb9d5f3f9aaa3bfc87bb955c5d35330cdd36f5bca136a8b3c7cb263', num_commits=4, original_repo_full_name=None, upstream_repo_full_name=None), Prompt(repo_handle='paper_score', description=None, readme=None, id='54a23a77-f9df-4020-81a0-d8921ee72757', tenant_id='b3bfaa34-9b9e-4c18-8061-be9a9446de3c', created_at=datetime.datetime(2025, 7, 10, 12, 21, 31, 142538), updated_at=datetime.datetime(2025, 7, 10, 12, 30, 21, 687813), is_public=True, is_archived=False, tags=['StructuredPrompt'], original_repo_id=None, upstream_repo_id=None, owner='paper-judge', full_name='paper-judge/paper_score', num_likes=0, num_downloads=0, num_views=4, liked_by_auth_user=False, last_commit_hash='f4d7147de008fc6b4ae8096d6f2131e5210e75c10b5e13b0fa46a62babe96315', num_commits=1, original_repo_full_name=None, upstream_repo_full_name=None), Prompt(repo_handle='sister_edinet_short', description='', readme='', id='a3703ac6-6d46-4d64-b14e-56e043b7f963', tenant_id='0b02b428-49ac-51c1-bb69-3f279c06fbca', created_at=datetime.datetime(2025, 6, 3, 11, 32, 56, 783370), updated_at=datetime.datetime(2025, 7, 10, 12, 19, 11, 267472), is_public=True, is_archived=False, tags=['ChatPromptTemplate'], original_repo_id=None, upstream_repo_id=None, owner='tomodo1773', full_name='tomodo1773/sister_edinet_short', num_likes=0, num_downloads=17, num_views=14, liked_by_auth_user=False, last_commit_hash='8cf98ee9ab003da502669cb360da7f36e324f7a3cdb0b6c4d36620b315d1b7e5', num_commits=6, original_repo_full_name=None, upstream_repo_full_name=None), Prompt(repo_handle='ask10', description=None, readme=None, id='e1df6385-f095-49ea-bd5e-b83b9abb4de6', tenant_id='bb9e3bfb-91e4-5cbd-88af-612005bdcfe5', created_at=datetime.datetime(2025, 3, 26, 11, 49, 16, 488330), updated_at=datetime.datetime(2025, 7, 10, 12, 13, 29, 797413), is_public=True, is_archived=False, tags=['StringPromptTemplate'], original_repo_id=None, upstream_repo_id=None, owner='intern', full_name='intern/ask10', num_likes=0, num_downloads=3196, num_views=257, liked_by_auth_user=False, last_commit_hash='f609a3e17b656836544212da02d2f4391bb2fe1bf062fb43918d5d5c6495c578', num_commits=42, original_repo_full_name=None, upstream_repo_full_name=None), Prompt(repo_handle='phishingagent1', description='', readme='', id='2bb22002-1528-4a87-85bb-90c00718863e', tenant_id='c45dcfa5-9470-44e4-b510-81e8919f19cb', created_at=datetime.datetime(2025, 7, 9, 12, 24, 34, 742744), updated_at=datetime.datetime(2025, 7, 9, 22, 45, 2, 397236), is_public=True, is_archived=False, tags=['ChatPromptTemplate'], original_repo_id=None, upstream_repo_id=None, owner='phishingagent', full_name='phishingagent/phishingagent1', num_likes=0, num_downloads=52, num_views=43, liked_by_auth_user=False, last_commit_hash='afe4ecb45e64fbfc01e875e38af5db9d4cb24a772f9f9c6f6e4e301002c9d738', num_commits=15, original_repo_full_name=None, upstream_repo_full_name=None), Prompt(repo_handle='astrodog-agent-denis', description='Denis is the love-powered Micro Maltese agent who writes educational mission reports through a lens of overwhelming affection. Every fact is amazing, every human is wonderful, and everything would be better with cuddles.', readme=None, id='02508220-740a-483b-ae4e-9b4cc04dd905', tenant_id='18b7bb63-0622-4a9c-a0fd-5e49d47be3e9', created_at=datetime.datetime(2025, 7, 9, 18, 19, 0, 991230), updated_at=datetime.datetime(2025, 7, 9, 18, 45, 27, 693502), is_public=True, is_archived=False, tags=['ChatPromptTemplate', 'astrodog', 'denis', 'maltese', 'mission-reports', 'dog-education'], original_repo_id=None, upstream_repo_id=None, owner='astrodog', full_name='astrodog/astrodog-agent-denis', num_likes=0, num_downloads=4, num_views=3, liked_by_auth_user=False, last_commit_hash='4fe580be37d7259d48dffe18e38abb63b6756b69825ba9a2647ae33c4b7ddd37', num_commits=1, original_repo_full_name=None, upstream_repo_full_name=None), Prompt(repo_handle='astrodog-agent-frankie', description='Frankie is the sophisticated gentleman Micro Maltese who writes refined yet warm educational mission reports. Brother to Denis, he brings elegance and wisdom to dog care education.', readme=None, id='04c3f141-b712-4431-92d8-47bf79f716cb', tenant_id='18b7bb63-0622-4a9c-a0fd-5e49d47be3e9', created_at=datetime.datetime(2025, 7, 9, 18, 19, 40, 684142), updated_at=datetime.datetime(2025, 7, 9, 18, 45, 23, 190196), is_public=True, is_archived=False, tags=['ChatPromptTemplate', 'astrodog', 'frankie', 'maltese', 'mission-reports', 'dog-education'], original_repo_id=None, upstream_repo_id=None, owner='astrodog', full_name='astrodog/astrodog-agent-frankie', num_likes=0, num_downloads=4, num_views=1, liked_by_auth_user=False, last_commit_hash='82b761faaa63f85c6170f199838271da2a35b897809e8cd539f9e12859d64518', num_commits=1, original_repo_full_name=None, upstream_repo_full_name=None), Prompt(repo_handle='astrodog-agent-gertie', description='Gertie is the regal Miniature Dachshund who writes theatrical, royal-themed mission reports. Despite being vertically challenged, her research reaches the highest standards!', readme=None, id='e7520160-1d2a-4a75-9e27-795d6c04593f', tenant_id='18b7bb63-0622-4a9c-a0fd-5e49d47be3e9', created_at=datetime.datetime(2025, 7, 9, 18, 20, 39, 721687), updated_at=datetime.datetime(2025, 7, 9, 18, 45, 18, 854099), is_public=True, is_archived=False, tags=['ChatPromptTemplate', 'astrodog', 'gertie', 'dachshund', 'mission-reports', 'dog-education'], original_repo_id=None, upstream_repo_id=None, owner='astrodog', full_name='astrodog/astrodog-agent-gertie', num_likes=0, num_downloads=4, num_views=1, liked_by_auth_user=False, last_commit_hash='23450520f0a4c78d216a78e1e914ba836092d9c12d8608998e253d20e0885f8c', num_commits=1, original_repo_full_name=None, upstream_repo_full_name=None), Prompt(repo_handle='astrodog-agent-jess', description='Jess is the impeccably mannered Yorkshire Terrier who writes charming, British-influenced mission reports about proper etiquette and dog care.', readme=None, id='64810681-4368-481b-bf65-490738dd89c5', tenant_id='18b7bb63-0622-4a9c-a0fd-5e49d47be3e9', created_at=datetime.datetime(2025, 7, 9, 18, 21, 20, 333713), updated_at=datetime.datetime(2025, 7, 9, 18, 45, 13, 867222), is_public=True, is_archived=False, tags=['ChatPromptTemplate', 'astrodog', 'jess', 'yorkshire-terrier', 'mission-reports', 'dog-education'], original_repo_id=None, upstream_repo_id=None, owner='astrodog', full_name='astrodog/astrodog-agent-jess', num_likes=0, num_downloads=4, num_views=1, liked_by_auth_user=False, last_commit_hash='c085d28b4b0a87c8b0a231149017b2ecb42ea382768523922aca9ea409e71fbe', num_commits=1, original_repo_full_name=None, upstream_repo_full_name=None), Prompt(repo_handle='astrodog-agent-mish', description='Mish is the comedian Labradoodle who writes high-energy mission reports packed with terrible puns and boundless enthusiasm. Best mates with Peggy!', readme=None, id='084e6d70-39d7-404a-ae53-9763a7dab888', tenant_id='18b7bb63-0622-4a9c-a0fd-5e49d47be3e9', created_at=datetime.datetime(2025, 7, 9, 18, 21, 59, 168086), updated_at=datetime.datetime(2025, 7, 9, 18, 45, 0, 80263), is_public=True, is_archived=False, tags=['ChatPromptTemplate', 'astrodog', 'mish', 'labradoodle', 'mission-reports', 'dog-education'], original_repo_id=None, upstream_repo_id=None, owner='astrodog', full_name='astrodog/astrodog-agent-mish', num_likes=0, num_downloads=4, num_views=1, liked_by_auth_user=False, last_commit_hash='64aee065229ab144f8d1f2f8f55e3801cf96ad4bca0c43ca12f38d103a6be34c', num_commits=1, original_repo_full_name=None, upstream_repo_full_name=None), Prompt(repo_handle='astrodog-agent-peggy', description='Peggy is the game-loving Springerdoodle who writes mission reports that turn dog care into exciting games and challenges. Best mates with Mish!', readme=None, id='75c7c154-8b03-42a2-9f43-ff36fa9c7e6b', tenant_id='18b7bb63-0622-4a9c-a0fd-5e49d47be3e9', created_at=datetime.datetime(2025, 7, 9, 18, 22, 35, 605433), updated_at=datetime.datetime(2025, 7, 9, 18, 44, 53, 174776), is_public=True, is_archived=False, tags=['ChatPromptTemplate', 'astrodog', 'peggy', 'springerdoodle', 'mission-reports', 'dog-education'], original_repo_id=None, upstream_repo_id=None, owner='astrodog', full_name='astrodog/astrodog-agent-peggy', num_likes=0, num_downloads=4, num_views=1, liked_by_auth_user=False, last_commit_hash='f06e9ffa991d7a1bf7ff841d4cfabd72061a0a0cb3f23f845a428b8326099dac', num_commits=1, original_repo_full_name=None, upstream_repo_full_name=None), Prompt(repo_handle='astrodog-agent-otto', description='Otto is the grateful 8-month-old Long-haired Dachshund puppy who writes mission reports with endless mentions of his mum and puppy wonder at everything he learns.', readme=None, id='54cd7d9f-ffb5-4da0-b6ee-30ffd8261ca8', tenant_id='18b7bb63-0622-4a9c-a0fd-5e49d47be3e9', created_at=datetime.datetime(2025, 7, 9, 18, 23, 11, 784699), updated_at=datetime.datetime(2025, 7, 9, 18, 44, 48, 119839), is_public=True, is_archived=False, tags=['ChatPromptTemplate', 'astrodog', 'otto', 'dachshund', 'mission-reports', 'dog-education'], original_repo_id=None, upstream_repo_id=None, owner='astrodog', full_name='astrodog/astrodog-agent-otto', num_likes=0, num_downloads=4, num_views=2, liked_by_auth_user=False, last_commit_hash='bd3db8a3356a190e3f494e2dedbfcc85f50e3b00808d64c631f05f0a8391ff93', num_commits=1, original_repo_full_name=None, upstream_repo_full_name=None), Prompt(repo_handle='astrodog-agent-blossom', description=\"Blossom is Gertie's sister, a Miniature Dachshund who serves as the loyal advisor and voice of reason to her dramatic royal sister.\", readme=None, id='9c527b65-b07c-4c1c-935a-06db1f816b9b', tenant_id='18b7bb63-0622-4a9c-a0fd-5e49d47be3e9', created_at=datetime.datetime(2025, 7, 9, 18, 23, 48, 648612), updated_at=datetime.datetime(2025, 7, 9, 18, 44, 36, 633583), is_public=True, is_archived=False, tags=['ChatPromptTemplate', 'astrodog', 'blossom', 'dachshund', 'mission-reports', 'dog-education'], original_repo_id=None, upstream_repo_id=None, owner='astrodog', full_name='astrodog/astrodog-agent-blossom', num_likes=0, num_downloads=4, num_views=2, liked_by_auth_user=False, last_commit_hash='6eab9da3395132c7775253010972bb5b9909e76573b1f59ccec8cfd3f046f061', num_commits=1, original_repo_full_name=None, upstream_repo_full_name=None), Prompt(repo_handle='astrodog-mission-reports-master', description='Master guide for writing Astrodog Mission Reports - combines SEO best practices with personality-driven storytelling for educational dog care content.', readme=None, id='7490e5b2-d419-480c-9027-51e32c60b212', tenant_id='18b7bb63-0622-4a9c-a0fd-5e49d47be3e9', created_at=datetime.datetime(2025, 7, 9, 18, 24, 32, 21091), updated_at=datetime.datetime(2025, 7, 9, 18, 44, 29, 772381), is_public=True, is_archived=False, tags=['ChatPromptTemplate', 'astrodog', 'mission-reports', 'master-guide', 'seo', 'dog-education'], original_repo_id=None, upstream_repo_id=None, owner='astrodog', full_name='astrodog/astrodog-mission-reports-master', num_likes=0, num_downloads=4, num_views=1, liked_by_auth_user=False, last_commit_hash='ab5f76fe64381d503a184162fdbfaeb38cd27135de4e2a4f543eff8e9af4197e', num_commits=1, original_repo_full_name=None, upstream_repo_full_name=None), Prompt(repo_handle='contract_renewal', description='', readme='', id='de2dcf39-b808-4c6c-b852-69a5b2012394', tenant_id='ea9c7bb6-737a-44cb-881a-d41bc8e56e0b', created_at=datetime.datetime(2025, 7, 9, 11, 39, 30, 7906), updated_at=datetime.datetime(2025, 7, 9, 14, 3, 53, 592517), is_public=True, is_archived=False, tags=['ChatPromptTemplate'], original_repo_id=None, upstream_repo_id=None, owner='handleforcontractrenewal', full_name='handleforcontractrenewal/contract_renewal', num_likes=0, num_downloads=11, num_views=15, liked_by_auth_user=False, last_commit_hash='a864676fabfc940b34a15326e20f5b9e3331bfdfbeab63a2aeb406cb657035d9', num_commits=1, original_repo_full_name=None, upstream_repo_full_name=None), Prompt(repo_handle='oxotel_booking', description='', readme='', id='0c4d992d-6f57-46db-bedf-4195a48e18e4', tenant_id='7b8960bf-7bc5-45c4-b96b-ba7b333fbd30', created_at=datetime.datetime(2025, 5, 5, 10, 18, 16, 605912), updated_at=datetime.datetime(2025, 7, 9, 11, 47, 39, 648745), is_public=True, is_archived=False, tags=['ChatPromptTemplate'], original_repo_id=None, upstream_repo_id=None, owner='parishi', full_name='parishi/oxotel_booking', num_likes=0, num_downloads=1233, num_views=46, liked_by_auth_user=False, last_commit_hash='9384a3f02ef1cc3924b87a91ab2fc157af157c6591e49f80496ceaabd8ae42b3', num_commits=8, original_repo_full_name=None, upstream_repo_full_name=None), Prompt(repo_handle='react_prompt', description='', readme='', id='2f0a48fe-efb8-4879-8602-c4ebf60a873d', tenant_id='6f72f5d8-ec1d-5cbb-ab4d-0a98ffee02fd', created_at=datetime.datetime(2025, 7, 9, 9, 22, 29, 551087), updated_at=datetime.datetime(2025, 7, 9, 10, 1, 44, 791439), is_public=True, is_archived=False, tags=['ChatPromptTemplate'], original_repo_id=None, upstream_repo_id=None, owner='siddhesh', full_name='siddhesh/react_prompt', num_likes=0, num_downloads=9, num_views=9, liked_by_auth_user=False, last_commit_hash='c3f16cab62ad674fb1b2dc2cec4ef3a05ad94f4b29a502cb95e7038d00417114', num_commits=4, original_repo_full_name=None, upstream_repo_full_name=None), Prompt(repo_handle='scene_sentences', description='', readme='', id='55715769-96d7-4540-8894-0448084587ee', tenant_id='2f6b7903-1959-49e7-b1bd-c77384997bc0', created_at=datetime.datetime(2025, 7, 9, 9, 23, 53, 756816), updated_at=datetime.datetime(2025, 7, 9, 9, 40, 22, 426903), is_public=True, is_archived=False, tags=['ChatPromptTemplate'], original_repo_id=None, upstream_repo_id=None, owner='grammatical', full_name='grammatical/scene_sentences', num_likes=0, num_downloads=4, num_views=18, liked_by_auth_user=False, last_commit_hash='c2459ab51ce98d962e79d2be91e3595dc37f7a1caba9a1c70fb0556ea76bcd4b', num_commits=2, original_repo_full_name=None, upstream_repo_full_name=None), Prompt(repo_handle='merge_request_writer', description='', readme=\"Use commands to generate git diff and git log:\\ngit diff main -- . ':(exclude)*.lock' ':(exclude)*.json' > git.diff\\ngit log main..HEAD > git.log\\n\", id='1c718194-7386-4436-8415-ba95c9551c69', tenant_id='f3c27de1-868a-5424-a989-90084f39493b', created_at=datetime.datetime(2024, 10, 2, 9, 50, 16, 358109), updated_at=datetime.datetime(2025, 7, 9, 9, 27, 41, 264356), is_public=True, is_archived=False, tags=['ChatPromptTemplate'], original_repo_id=None, upstream_repo_id=None, owner='mrmoe', full_name='mrmoe/merge_request_writer', num_likes=1, num_downloads=4, num_views=69, liked_by_auth_user=False, last_commit_hash='01fcb341e6415d0b588518d0e68f84e44f51859b9f5c9f788a90cae08e5ffc8b', num_commits=5, original_repo_full_name=None, upstream_repo_full_name=None), Prompt(repo_handle='oxotel_default', description='', readme='', id='2fe8b5cd-e0c5-469b-a522-65164c993156', tenant_id='7b8960bf-7bc5-45c4-b96b-ba7b333fbd30', created_at=datetime.datetime(2025, 5, 5, 10, 2, 35, 275888), updated_at=datetime.datetime(2025, 7, 9, 7, 48, 39, 845486), is_public=True, is_archived=False, tags=['ChatPromptTemplate'], original_repo_id=None, upstream_repo_id=None, owner='parishi', full_name='parishi/oxotel_default', num_likes=0, num_downloads=1123, num_views=63, liked_by_auth_user=False, last_commit_hash='b98c57dcacf56da96d730eebfc2e7e5ce9fa9c7308029d0e5158db9f59a1206d', num_commits=11, original_repo_full_name=None, upstream_repo_full_name=None), Prompt(repo_handle='tool_assistant_prompt', description='', readme='', id='25a18d8a-b8b1-4ba9-85e9-2303d0f34fd8', tenant_id='024832d3-75ca-4684-b9ca-b1d1ecebcc93', created_at=datetime.datetime(2025, 7, 8, 21, 11, 16, 451043), updated_at=datetime.datetime(2025, 7, 9, 7, 10, 7, 802484), is_public=True, is_archived=False, tags=['ChatPromptTemplate'], original_repo_id=None, upstream_repo_id=None, owner='abhishekjyotiba', full_name='abhishekjyotiba/tool_assistant_prompt', num_likes=0, num_downloads=4, num_views=8, liked_by_auth_user=False, last_commit_hash='f8a377bb80c46f3292d26a6c36a4bef18ff4f8fa90e9a727ac5a7c57aa9c1f49', num_commits=2, original_repo_full_name=None, upstream_repo_full_name=None), Prompt(repo_handle='oxotel_prompt', description='', readme='', id='fa327d24-3892-477d-a29f-28a9b2a60eb4', tenant_id='7b8960bf-7bc5-45c4-b96b-ba7b333fbd30', created_at=datetime.datetime(2025, 5, 5, 8, 49, 20, 653252), updated_at=datetime.datetime(2025, 7, 9, 6, 59, 22, 965625), is_public=True, is_archived=False, tags=['ChatPromptTemplate'], original_repo_id=None, upstream_repo_id=None, owner='parishi', full_name='parishi/oxotel_prompt', num_likes=0, num_downloads=1201, num_views=155, liked_by_auth_user=False, last_commit_hash='ad2c9bac3f85564ce739f909c85007ba3e0fafa39379d7a64b8126e4dd0dddee', num_commits=28, original_repo_full_name=None, upstream_repo_full_name=None), Prompt(repo_handle='multi_select_question_usage', description='', readme='', id='b6ddb5ad-ad98-4494-9b46-3b2518a4db19', tenant_id='6570156b-88a4-4db2-8b4b-4547ee4605d7', created_at=datetime.datetime(2025, 7, 1, 4, 50, 28, 998258), updated_at=datetime.datetime(2025, 7, 9, 4, 24, 51, 703237), is_public=True, is_archived=False, tags=['ChatPromptTemplate'], original_repo_id=None, upstream_repo_id=None, owner='innovationlab', full_name='innovationlab/multi_select_question_usage', num_likes=0, num_downloads=474, num_views=13, liked_by_auth_user=False, last_commit_hash='edf1ab4627feac170efad1f115382aaff20dc38f5122295f890e74d337594bbb', num_commits=3, original_repo_full_name=None, upstream_repo_full_name=None), Prompt(repo_handle='supervisor_prompt', description='', readme='', id='2075362b-916a-400b-bf30-2050a18fe1c7', tenant_id='6570156b-88a4-4db2-8b4b-4547ee4605d7', created_at=datetime.datetime(2025, 7, 1, 5, 23, 40, 528448), updated_at=datetime.datetime(2025, 7, 9, 4, 7, 26, 614582), is_public=True, is_archived=False, tags=['ChatPromptTemplate'], original_repo_id=None, upstream_repo_id=None, owner='innovationlab', full_name='innovationlab/supervisor_prompt', num_likes=0, num_downloads=419, num_views=18, liked_by_auth_user=False, last_commit_hash='c9c5ea32901721350360016ca3781651d54a17d1741552d788635ea8a549b7c1', num_commits=2, original_repo_full_name=None, upstream_repo_full_name=None), Prompt(repo_handle='ai-resume-builder', description='', readme='', id='c7e80de9-f9d7-4f44-a7f0-ff68fd0fccff', tenant_id='33bff52a-1288-48d4-9d35-48bc6e72ae81', created_at=datetime.datetime(2025, 7, 8, 20, 29, 18, 4784), updated_at=datetime.datetime(2025, 7, 8, 20, 29, 43, 672825), is_public=True, is_archived=False, tags=['ChatPromptTemplate'], original_repo_id=None, upstream_repo_id=None, owner='matoviale', full_name='matoviale/ai-resume-builder', num_likes=0, num_downloads=4, num_views=10, liked_by_auth_user=False, last_commit_hash='16d196ceee2a30bf2ba1171e562fe031437bfcb4b41a800bed922828ad497eac', num_commits=1, original_repo_full_name=None, upstream_repo_full_name=None), Prompt(repo_handle='demo_testing', description='Testing the webvoyaer prompt', readme='', id='f5d3d45a-1106-41b8-bade-25f2b3beef0b', tenant_id='cc217a1b-da7b-5b18-a2b9-eb584dd06733', created_at=datetime.datetime(2025, 6, 11, 10, 4, 27, 997134), updated_at=datetime.datetime(2025, 7, 8, 7, 34, 22, 155528), is_public=True, is_archived=False, tags=['ChatPromptTemplate', 'Agents', 'English'], original_repo_id='8eef55d0-d489-4c23-a918-d3475ce4b45f', upstream_repo_id='88384b63-9709-4262-9e95-2517e1c0fa76', owner='var', full_name='var/demo_testing', num_likes=0, num_downloads=154, num_views=70, liked_by_auth_user=False, last_commit_hash='c83bed6a3f44a1b63da715c5bbe0565c52204ec32d0c193d44bfe4a762cc68ea', num_commits=208, original_repo_full_name='wfh/web-voyager', upstream_repo_full_name='sham/demo_testing'), Prompt(repo_handle='chat-history-summarizer', description='', readme='', id='53d6eafe-08c3-4e73-9d9d-de4a7e2f849b', tenant_id='4586521e-92b7-4d1a-b605-20764cf4bf2b', created_at=datetime.datetime(2025, 2, 20, 9, 33, 28, 14833), updated_at=datetime.datetime(2025, 7, 8, 4, 5, 3, 361653), is_public=True, is_archived=False, tags=['ChatPromptTemplate'], original_repo_id=None, upstream_repo_id=None, owner='n0ngalaxy', full_name='n0ngalaxy/chat-history-summarizer', num_likes=0, num_downloads=513, num_views=55, liked_by_auth_user=False, last_commit_hash='81aa1c0193f1f522dc16b595d084623011f68cb83780732f0c7c74cd85d72f2e', num_commits=4, original_repo_full_name=None, upstream_repo_full_name=None), Prompt(repo_handle='seek_search_assistant-response_prompt', description='SEEK search assistant - response system prompt', readme='', id='0ae9d3a4-e855-4d47-8085-ef2d278a32ae', tenant_id='609d23b0-fe97-4298-885c-245b826fad3a', created_at=datetime.datetime(2025, 6, 2, 8, 2, 42, 347542), updated_at=datetime.datetime(2025, 7, 8, 3, 29, 13, 156906), is_public=True, is_archived=False, tags=['ChatPromptTemplate', 'Chatbots'], original_repo_id=None, upstream_repo_id=None, owner='verafiles', full_name='verafiles/seek_search_assistant-response_prompt', num_likes=0, num_downloads=211, num_views=156, liked_by_auth_user=False, last_commit_hash='940dfa4a0388c180994fa0757fb657e0c1a0094956fbe02f75ac2584ffa722c4', num_commits=24, original_repo_full_name=None, upstream_repo_full_name=None), Prompt(repo_handle='tstsnflk', description='Modifying it for our v3 use case.', readme='', id='baa8c1da-3aaf-4e59-8fd7-72142601aeed', tenant_id='986e4058-521e-4eb5-aa85-bb9e1b6ecbd7', created_at=datetime.datetime(2025, 6, 30, 17, 26, 56, 521988), updated_at=datetime.datetime(2025, 7, 8, 2, 16, 41, 477443), is_public=True, is_archived=False, tags=['ChatPromptTemplate'], original_repo_id='4b23c62d-ff3d-4481-af3f-c80175e2aa7e', upstream_repo_id='98b73342-5907-4d69-98ec-e33d4d535928', owner='testavnd', full_name='testavnd/tstsnflk', num_likes=0, num_downloads=175, num_views=18, liked_by_auth_user=False, last_commit_hash='1fa8c5295f2b624f1f875f35be760b448adabdbf0cbd47ea950e4ea58e667783', num_commits=17, original_repo_full_name='langchain-ai/sql-query-system-prompt', upstream_repo_full_name='testavnd/snflktest'), Prompt(repo_handle='hyde_retrieval', description='', readme='', id='32b3aee5-bd8e-4fb5-ad34-f9c292358ad2', tenant_id='155935e6-6627-467b-b0f5-71e30d1fee12', created_at=datetime.datetime(2025, 7, 4, 18, 0, 55, 58134), updated_at=datetime.datetime(2025, 7, 7, 10, 29, 54, 130725), is_public=True, is_archived=False, tags=['ChatPromptTemplate'], original_repo_id=None, upstream_repo_id=None, owner='wangxu2', full_name='wangxu2/hyde_retrieval', num_likes=0, num_downloads=28, num_views=8, liked_by_auth_user=False, last_commit_hash='5909457dabf4127d09c53d6103340b94a1915fc4bd7c838498be0b58979a5215', num_commits=2, original_repo_full_name=None, upstream_repo_full_name=None), Prompt(repo_handle='hyde_2', description='', readme='', id='25da95a4-a8c7-471d-bb33-fbf6a4ca97e4', tenant_id='155935e6-6627-467b-b0f5-71e30d1fee12', created_at=datetime.datetime(2025, 7, 4, 18, 16, 55, 801739), updated_at=datetime.datetime(2025, 7, 7, 10, 28, 33, 14516), is_public=True, is_archived=False, tags=['ChatPromptTemplate'], original_repo_id=None, upstream_repo_id=None, owner='wangxu2', full_name='wangxu2/hyde_2', num_likes=0, num_downloads=32, num_views=4, liked_by_auth_user=False, last_commit_hash='ef67c454a2b6a6d0487e79fa1a6fb6d1f033e95212eece6dfd0a4e5b1a46254c', num_commits=2, original_repo_full_name=None, upstream_repo_full_name=None), Prompt(repo_handle='tavily_todolist', description='', readme='', id='15bbff9b-83b2-43e4-a04d-57e033221260', tenant_id='155935e6-6627-467b-b0f5-71e30d1fee12', created_at=datetime.datetime(2025, 7, 4, 14, 30, 44, 57248), updated_at=datetime.datetime(2025, 7, 7, 10, 26, 29, 768902), is_public=True, is_archived=False, tags=['ChatPromptTemplate'], original_repo_id=None, upstream_repo_id=None, owner='wangxu2', full_name='wangxu2/tavily_todolist', num_likes=0, num_downloads=31, num_views=12, liked_by_auth_user=False, last_commit_hash='e23ae11af5663169bd8cef7ab96f175653945240574fe520d1c491e5d444da8d', num_commits=3, original_repo_full_name=None, upstream_repo_full_name=None), Prompt(repo_handle='tavily', description='', readme='', id='6e9bd3f2-a7bb-4c90-b30f-db5df53943ce', tenant_id='155935e6-6627-467b-b0f5-71e30d1fee12', created_at=datetime.datetime(2025, 7, 4, 7, 15, 46, 362774), updated_at=datetime.datetime(2025, 7, 7, 10, 20, 56, 549669), is_public=True, is_archived=False, tags=['ChatPromptTemplate'], original_repo_id=None, upstream_repo_id=None, owner='wangxu2', full_name='wangxu2/tavily', num_likes=0, num_downloads=43, num_views=25, liked_by_auth_user=False, last_commit_hash='37c0c4824ff203d9bf8a36a5c280a696c6f2ec00b09d454d9c0a576e6409da37', num_commits=3, original_repo_full_name=None, upstream_repo_full_name=None), Prompt(repo_handle='saju', description='', readme='', id='ac2a2197-a10d-4412-8fab-8cd68cfc399a', tenant_id='791b290c-cf3e-47a9-8345-c8e4fe6657ea', created_at=datetime.datetime(2025, 7, 7, 9, 40, 11, 726360), updated_at=datetime.datetime(2025, 7, 7, 9, 41, 10, 105002), is_public=True, is_archived=False, tags=['ChatPromptTemplate'], original_repo_id=None, upstream_repo_id=None, owner='levup', full_name='levup/saju', num_likes=0, num_downloads=4, num_views=2, liked_by_auth_user=False, last_commit_hash='63993033feee84123c7b523936d1a55b1ab8b5c7a93e1176b821d7da67b0f549', num_commits=1, original_repo_full_name=None, upstream_repo_full_name=None), Prompt(repo_handle='v3_generate_lesson_summary', description='', readme='', id='a6f07056-8360-4bdd-bc2a-91a1507f4b3e', tenant_id='9bdf2da0-bd79-499e-95f3-344a09bd0e02', created_at=datetime.datetime(2025, 7, 6, 19, 22, 10, 896877), updated_at=datetime.datetime(2025, 7, 6, 19, 38, 45, 260683), is_public=True, is_archived=False, tags=['ChatPromptTemplate'], original_repo_id=None, upstream_repo_id=None, owner='innocifra', full_name='innocifra/v3_generate_lesson_summary', num_likes=0, num_downloads=4, num_views=8, liked_by_auth_user=False, last_commit_hash='151661cce0d1cae15f78c999da6d970b8a576e17b6b8bad709419f844be9bfb5', num_commits=2, original_repo_full_name=None, upstream_repo_full_name=None), Prompt(repo_handle='gen-resume', description='', readme='', id='09d177a0-044e-45c2-a7df-bee78559ba8d', tenant_id='76ff1447-bd29-59b5-9afe-3dba6307ca29', created_at=datetime.datetime(2025, 7, 6, 16, 44, 13, 835), updated_at=datetime.datetime(2025, 7, 6, 17, 13, 38, 121520), is_public=True, is_archived=False, tags=['ChatPromptTemplate'], original_repo_id=None, upstream_repo_id=None, owner='simotho', full_name='simotho/gen-resume', num_likes=0, num_downloads=17, num_views=9, liked_by_auth_user=False, last_commit_hash='6f626bf9e92a04a0fd8cb5daa4d5d248ca7df8d692af0b3f8f7fb467d73606fe', num_commits=2, original_repo_full_name=None, upstream_repo_full_name=None), Prompt(repo_handle='qcm-rag-fr', description='', readme='', id='ccdc1259-f136-473a-8554-7742552e5198', tenant_id='76ff1447-bd29-59b5-9afe-3dba6307ca29', created_at=datetime.datetime(2024, 9, 5, 9, 14, 20, 448019), updated_at=datetime.datetime(2025, 7, 6, 16, 35, 1, 413327), is_public=True, is_archived=False, tags=['ChatPromptTemplate'], original_repo_id=None, upstream_repo_id=None, owner='simotho', full_name='simotho/qcm-rag-fr', num_likes=0, num_downloads=264, num_views=23, liked_by_auth_user=False, last_commit_hash='3649e9a923ddbe4dff07146510fcc7a63a44902eb78541138259c83374dac28d', num_commits=7, original_repo_full_name=None, upstream_repo_full_name=None), Prompt(repo_handle='oxotel-supervisor', description='', readme='', id='478c65ff-d8f4-4c04-b58f-8ab2fcc8712b', tenant_id='7b8960bf-7bc5-45c4-b96b-ba7b333fbd30', created_at=datetime.datetime(2025, 5, 5, 9, 51, 47, 517348), updated_at=datetime.datetime(2025, 7, 5, 14, 9, 53, 831475), is_public=True, is_archived=False, tags=['ChatPromptTemplate'], original_repo_id=None, upstream_repo_id=None, owner='parishi', full_name='parishi/oxotel-supervisor', num_likes=0, num_downloads=1158, num_views=65, liked_by_auth_user=False, last_commit_hash='b53a3c928d720c3061f15b0c572ae2faab5f515f9dc0f3849ba761100fdf4656', num_commits=9, original_repo_full_name=None, upstream_repo_full_name=None), Prompt(repo_handle='mcq-generator-prompt', description='', readme='', id='6954fee6-1150-4c76-bfa7-b231bc421a0a', tenant_id='dd3e3736-e8fd-5ef5-b51c-14d734f8a8f9', created_at=datetime.datetime(2025, 5, 22, 23, 38, 47, 579372), updated_at=datetime.datetime(2025, 7, 4, 23, 35, 18, 619228), is_public=True, is_archived=False, tags=['StringPromptTemplate'], original_repo_id=None, upstream_repo_id=None, owner='khanza', full_name='khanza/mcq-generator-prompt', num_likes=0, num_downloads=402, num_views=38, liked_by_auth_user=False, last_commit_hash='dee9a1ef3797a0a46feaa629b1d9dfc912c4bffe7de1a1196f0670291f06e8f6', num_commits=6, original_repo_full_name=None, upstream_repo_full_name=None), Prompt(repo_handle='saq-generator-prompt', description='', readme='', id='35c11c6d-5ffd-4051-9fe2-bc6289e13897', tenant_id='dd3e3736-e8fd-5ef5-b51c-14d734f8a8f9', created_at=datetime.datetime(2025, 5, 27, 20, 9, 48, 52981), updated_at=datetime.datetime(2025, 7, 4, 23, 34, 49, 483294), is_public=True, is_archived=False, tags=['StringPromptTemplate'], original_repo_id=None, upstream_repo_id=None, owner='khanza', full_name='khanza/saq-generator-prompt', num_likes=0, num_downloads=70, num_views=9, liked_by_auth_user=False, last_commit_hash='07e697a06c761ad5602644b05998f6aa7a22b3176e403d78540ae730e8a9c833', num_commits=3, original_repo_full_name=None, upstream_repo_full_name=None), Prompt(repo_handle='tfq-generator-prompt', description='', readme='', id='f897e2bf-603b-4544-94a5-d867be336896', tenant_id='dd3e3736-e8fd-5ef5-b51c-14d734f8a8f9', created_at=datetime.datetime(2025, 5, 27, 20, 10, 54, 785299), updated_at=datetime.datetime(2025, 7, 4, 23, 33, 56, 959002), is_public=True, is_archived=False, tags=['StringPromptTemplate'], original_repo_id=None, upstream_repo_id=None, owner='khanza', full_name='khanza/tfq-generator-prompt', num_likes=0, num_downloads=67, num_views=9, liked_by_auth_user=False, last_commit_hash='dc2df5b9bacf7734b1a5afe46739f15aa84d44d0e6560b075c1c2d3c514513c2', num_commits=3, original_repo_full_name=None, upstream_repo_full_name=None), Prompt(repo_handle='invoices_from_ocr', description='', readme='', id='5b1579b3-9f1e-4233-9b64-62d2c1ff3899', tenant_id='3011caa3-3bcf-49f7-b631-ff614f178664', created_at=datetime.datetime(2024, 12, 2, 17, 44, 25, 593547), updated_at=datetime.datetime(2025, 7, 4, 21, 38, 12, 328705), is_public=True, is_archived=False, tags=['ChatPromptTemplate'], original_repo_id=None, upstream_repo_id=None, owner='ciudadela', full_name='ciudadela/invoices_from_ocr', num_likes=0, num_downloads=48404, num_views=212, liked_by_auth_user=False, last_commit_hash='e1a7c1e49528ac661828adf12c3b671fd6c02da09099354165eb7d9e65bed652', num_commits=11, original_repo_full_name=None, upstream_repo_full_name=None), Prompt(repo_handle='hyde_1', description='', readme='', id='b4716be2-21ce-4363-a203-1f1714b46484', tenant_id='155935e6-6627-467b-b0f5-71e30d1fee12', created_at=datetime.datetime(2025, 7, 4, 17, 56, 44, 982492), updated_at=datetime.datetime(2025, 7, 4, 17, 56, 57, 980878), is_public=True, is_archived=False, tags=['ChatPromptTemplate'], original_repo_id=None, upstream_repo_id=None, owner='wangxu2', full_name='wangxu2/hyde_1', num_likes=0, num_downloads=7, num_views=3, liked_by_auth_user=False, last_commit_hash='75be9d75161492187de5bf9b725d15b3645b90162b2bed2e56158c26a0632bf4', num_commits=1, original_repo_full_name=None, upstream_repo_full_name=None), Prompt(repo_handle='becky-qa-prompt', description='', readme='', id='3ff9ab51-8ac7-4ba2-9cd0-e5fd5acf286d', tenant_id='6fe068a6-699c-49c2-adc5-fed167d6ace3', created_at=datetime.datetime(2025, 5, 30, 18, 45, 26, 308276), updated_at=datetime.datetime(2025, 7, 3, 16, 22, 31, 815311), is_public=True, is_archived=False, tags=['ChatPromptTemplate'], original_repo_id=None, upstream_repo_id=None, owner='trumid', full_name='trumid/becky-qa-prompt', num_likes=0, num_downloads=427, num_views=130, liked_by_auth_user=False, last_commit_hash='4bf113a82267299a23871b3ee14117875b8f47258256976996b3c0f666c73a82', num_commits=22, original_repo_full_name=None, upstream_repo_full_name=None), Prompt(repo_handle='summarize_for_retreival', description='gpt-4.1 (generate)', readme='', id='2640749d-9bea-4962-8dac-37c6bc9ad9b9', tenant_id='4b67faaf-f556-4a82-a5b3-25e7b303f718', created_at=datetime.datetime(2025, 7, 2, 15, 31, 8, 564990), updated_at=datetime.datetime(2025, 7, 3, 16, 6, 24, 788121), is_public=True, is_archived=False, tags=['ChatPromptTemplate'], original_repo_id='eaaeec00-c2e3-4d30-8aaf-3a4086772acb', upstream_repo_id='c2181d87-7ca4-400b-9dc2-e5a516212c2b', owner='mitchell-compoze', full_name='mitchell-compoze/summarize_for_retreival', num_likes=0, num_downloads=23, num_views=20, liked_by_auth_user=False, last_commit_hash='a6d1bb3e8f1333ffee7b470c40cc555ac7060ba48cd5498c01d5140cc5df4ee9', num_commits=20, original_repo_full_name='mitchell-compoze/agent_prompt', upstream_repo_full_name='mitchell-compoze/generate_prompt_gpt4_1_no_meds'), Prompt(repo_handle='composite_question_usage_eval', description='', readme='', id='951d25ef-47a7-4704-91eb-3ba4e2888c9c', tenant_id='6570156b-88a4-4db2-8b4b-4547ee4605d7', created_at=datetime.datetime(2025, 7, 3, 8, 46, 22, 720475), updated_at=datetime.datetime(2025, 7, 3, 8, 46, 39, 93004), is_public=True, is_archived=False, tags=['ChatPromptTemplate'], original_repo_id='102dbc57-9c34-4728-b9a8-bdfa51a81b01', upstream_repo_id='102dbc57-9c34-4728-b9a8-bdfa51a81b01', owner='innovationlab', full_name='innovationlab/composite_question_usage_eval', num_likes=0, num_downloads=6, num_views=3, liked_by_auth_user=False, last_commit_hash='18fa6bca928e9d4a1f76a395489c43546787be204c9385f0cf167a269aa5dfb6', num_commits=2, original_repo_full_name='innovationlab/composite_question_usage', upstream_repo_full_name='innovationlab/composite_question_usage'), Prompt(repo_handle='meta-test-2', description=None, readme=None, id='9a22bf0c-71fd-48cb-aa99-5cf2a573fbbd', tenant_id='4586521e-92b7-4d1a-b605-20764cf4bf2b', created_at=datetime.datetime(2025, 3, 3, 2, 50, 15, 999560), updated_at=datetime.datetime(2025, 7, 3, 8, 22, 47, 739831), is_public=True, is_archived=False, tags=['ChatPromptTemplate'], original_repo_id=None, upstream_repo_id=None, owner='n0ngalaxy', full_name='n0ngalaxy/meta-test-2', num_likes=0, num_downloads=495, num_views=188, liked_by_auth_user=False, last_commit_hash='2fd02275f7e0dcc943b1a145a38743881cd8a9dedce3645a86f469199e5f9b4a', num_commits=29, original_repo_full_name=None, upstream_repo_full_name=None), Prompt(repo_handle='configurable_workflow', description='', readme='', id='7faebe6e-e039-4e84-a07b-e0cc192d536d', tenant_id='6570156b-88a4-4db2-8b4b-4547ee4605d7', created_at=datetime.datetime(2025, 7, 1, 8, 23, 23, 871964), updated_at=datetime.datetime(2025, 7, 3, 5, 40, 38, 601697), is_public=True, is_archived=False, tags=['ChatPromptTemplate'], original_repo_id=None, upstream_repo_id=None, owner='innovationlab', full_name='innovationlab/configurable_workflow', num_likes=0, num_downloads=440, num_views=14, liked_by_auth_user=False, last_commit_hash='b6849568040bfb30d9130b70ed38ef9ca22cfff5ab771170e481604f6e5df390', num_commits=4, original_repo_full_name=None, upstream_repo_full_name=None), Prompt(repo_handle='grammatical_correctness', description='', readme='', id='fe03c4ab-7daf-47f7-bd95-db43579a2517', tenant_id='2f6b7903-1959-49e7-b1bd-c77384997bc0', created_at=datetime.datetime(2025, 7, 3, 2, 34, 14, 822995), updated_at=datetime.datetime(2025, 7, 3, 3, 32, 21, 153879), is_public=True, is_archived=False, tags=['ChatPromptTemplate'], original_repo_id=None, upstream_repo_id=None, owner='grammatical', full_name='grammatical/grammatical_correctness', num_likes=0, num_downloads=4, num_views=90, liked_by_auth_user=False, last_commit_hash='439cde24976b6faec49c24d6e7bc907cb0ed930d34aac06093a869d520982720', num_commits=1, original_repo_full_name=None, upstream_repo_full_name=None), Prompt(repo_handle='v3_generate_context_on_knowledge_tags', description='', readme='', id='1faf0834-9b98-4c16-81e8-70a05c474577', tenant_id='9bdf2da0-bd79-499e-95f3-344a09bd0e02', created_at=datetime.datetime(2025, 7, 1, 16, 45, 57, 670522), updated_at=datetime.datetime(2025, 7, 2, 10, 57, 32, 966148), is_public=True, is_archived=False, tags=['ChatPromptTemplate'], original_repo_id=None, upstream_repo_id=None, owner='innocifra', full_name='innocifra/v3_generate_context_on_knowledge_tags', num_likes=0, num_downloads=671, num_views=34, liked_by_auth_user=False, last_commit_hash='bfbf55adbe02b1812738298070d57048fbbb85fa09714375311ef85aade2650a', num_commits=3, original_repo_full_name=None, upstream_repo_full_name=None), Prompt(repo_handle='input-guardrail', description='', readme='', id='95a40316-052e-4fdf-b4c2-33e7bba47f09', tenant_id='4586521e-92b7-4d1a-b605-20764cf4bf2b', created_at=datetime.datetime(2025, 4, 7, 3, 56, 45, 417922), updated_at=datetime.datetime(2025, 7, 2, 1, 20, 20, 481823), is_public=True, is_archived=False, tags=['ChatPromptTemplate'], original_repo_id=None, upstream_repo_id=None, owner='n0ngalaxy', full_name='n0ngalaxy/input-guardrail', num_likes=0, num_downloads=384, num_views=135, liked_by_auth_user=False, last_commit_hash='0240e1a7e38517d81cbb768f8814d975ebecd07bc7eb913f83918f171708cb00', num_commits=6, original_repo_full_name=None, upstream_repo_full_name=None), Prompt(repo_handle='mcp-server-langsmith-guide', description='', readme='', id='62a06ebb-9edb-428b-a385-e374aea29549', tenant_id='18b7bb63-0622-4a9c-a0fd-5e49d47be3e9', created_at=datetime.datetime(2025, 7, 1, 23, 19, 32, 466535), updated_at=datetime.datetime(2025, 7, 2, 0, 8, 32, 251280), is_public=True, is_archived=False, tags=['StringPromptTemplate'], original_repo_id=None, upstream_repo_id=None, owner='astrodog', full_name='astrodog/mcp-server-langsmith-guide', num_likes=0, num_downloads=5, num_views=13, liked_by_auth_user=False, last_commit_hash='a152efaa0210d8cee3e36921a808c700a3d41609a71bdaf85e4a095715abbab2', num_commits=3, original_repo_full_name=None, upstream_repo_full_name=None), Prompt(repo_handle='meta-prompt-translator', description='', readme='', id='e735fe67-eb01-452a-a62d-126dd79ce571', tenant_id='18b7bb63-0622-4a9c-a0fd-5e49d47be3e9', created_at=datetime.datetime(2025, 7, 2, 0, 7, 25, 991326), updated_at=datetime.datetime(2025, 7, 2, 0, 7, 41, 670874), is_public=True, is_archived=False, tags=['StringPromptTemplate'], original_repo_id=None, upstream_repo_id=None, owner='astrodog', full_name='astrodog/meta-prompt-translator', num_likes=0, num_downloads=5, num_views=4, liked_by_auth_user=False, last_commit_hash='d543afba6597f438c1eb3ec8989a6cb7b364ffc2031de69506e0168efb9a7c32', num_commits=1, original_repo_full_name=None, upstream_repo_full_name=None), Prompt(repo_handle='helpful_chatbot', description='', readme='', id='c73a2ff8-29a0-4195-b0a8-e5bab806c8d8', tenant_id='7dca8a87-a2db-55d9-87ba-52bfe00ca573', created_at=datetime.datetime(2025, 7, 1, 21, 0, 35, 618443), updated_at=datetime.datetime(2025, 7, 1, 21, 1, 49, 126765), is_public=True, is_archived=False, tags=['ChatPromptTemplate'], original_repo_id=None, upstream_repo_id=None, owner='mattnorris', full_name='mattnorris/helpful_chatbot', num_likes=0, num_downloads=6, num_views=3, liked_by_auth_user=False, last_commit_hash='2db5f6495b490f13539dfc538fe5acbc48c42487c9572031a1900272c1d59ce3', num_commits=1, original_repo_full_name=None, upstream_repo_full_name=None), Prompt(repo_handle='research-and-plan', description='', readme='', id='a8c91a04-138e-403d-b615-ade1c1d58f86', tenant_id='18b7bb63-0622-4a9c-a0fd-5e49d47be3e9', created_at=datetime.datetime(2025, 7, 1, 18, 57, 12, 308304), updated_at=datetime.datetime(2025, 7, 1, 18, 57, 25, 739767), is_public=True, is_archived=False, tags=['StringPromptTemplate'], original_repo_id=None, upstream_repo_id=None, owner='astrodog', full_name='astrodog/research-and-plan', num_likes=0, num_downloads=38, num_views=5, liked_by_auth_user=False, last_commit_hash='d1b856cee83c771c56dfdc349d9f66f69859ec0d3dd8adf0552ccf5e11778c14', num_commits=1, original_repo_full_name=None, upstream_repo_full_name=None), Prompt(repo_handle='test_prompt_v3', description='', readme='', id='b0ecab5d-2a09-423a-9b69-07c4046cb295', tenant_id='3f875eac-9976-4f0c-b2e5-401d3de5eadb', created_at=datetime.datetime(2025, 5, 22, 17, 29, 20, 217656), updated_at=datetime.datetime(2025, 7, 1, 12, 46, 35, 496573), is_public=True, is_archived=False, tags=['ChatPromptTemplate'], original_repo_id=None, upstream_repo_id=None, owner='anastasiiaa', full_name='anastasiiaa/test_prompt_v3', num_likes=0, num_downloads=64, num_views=313, liked_by_auth_user=False, last_commit_hash='70ab2727051629ff029629574ca91b7ff5d7ab71e7a92fccdcf1b62f1cb0245f', num_commits=23, original_repo_full_name=None, upstream_repo_full_name=None), Prompt(repo_handle='composite_question_usage', description='', readme='', id='102dbc57-9c34-4728-b9a8-bdfa51a81b01', tenant_id='6570156b-88a4-4db2-8b4b-4547ee4605d7', created_at=datetime.datetime(2025, 7, 1, 4, 45, 7, 582940), updated_at=datetime.datetime(2025, 7, 1, 8, 48, 33, 626701), is_public=True, is_archived=False, tags=['ChatPromptTemplate'], original_repo_id=None, upstream_repo_id=None, owner='innovationlab', full_name='innovationlab/composite_question_usage', num_likes=0, num_downloads=494, num_views=7, liked_by_auth_user=False, last_commit_hash='528b8f9f8da6814414250d5d90c6cfd2c3eb52af1044d0a66a3873a3f4bd8e38', num_commits=1, original_repo_full_name=None, upstream_repo_full_name=None), Prompt(repo_handle='rules', description='', readme='', id='f5fcbfcd-468f-4f37-bd75-4a7b3445f613', tenant_id='6570156b-88a4-4db2-8b4b-4547ee4605d7', created_at=datetime.datetime(2025, 7, 1, 7, 15, 34, 37544), updated_at=datetime.datetime(2025, 7, 1, 8, 48, 14, 638051), is_public=True, is_archived=False, tags=['ChatPromptTemplate'], original_repo_id=None, upstream_repo_id=None, owner='innovationlab', full_name='innovationlab/rules', num_likes=0, num_downloads=503, num_views=10, liked_by_auth_user=False, last_commit_hash='ab132d8e50bd443f871d0019b8209a76599247e2fafdd580a62bd04dd6fceabf', num_commits=1, original_repo_full_name=None, upstream_repo_full_name=None), Prompt(repo_handle='sub_agent_prompt', description='', readme='', id='de17a03a-e610-4c37-9a88-60b1913da30d', tenant_id='6570156b-88a4-4db2-8b4b-4547ee4605d7', created_at=datetime.datetime(2025, 7, 1, 4, 57, 18, 486788), updated_at=datetime.datetime(2025, 7, 1, 8, 48, 6, 424546), is_public=True, is_archived=False, tags=['ChatPromptTemplate'], original_repo_id=None, upstream_repo_id=None, owner='innovationlab', full_name='innovationlab/sub_agent_prompt', num_likes=0, num_downloads=470, num_views=14, liked_by_auth_user=False, last_commit_hash='d3b1930776e17e5293f458bac682ded97cd2276e4e4f599b72c165b5e12917d0', num_commits=4, original_repo_full_name=None, upstream_repo_full_name=None), Prompt(repo_handle='next_question_tool_response', description='', readme='', id='cb28b9bf-0fdf-43cc-8d84-86dec60bc8e0', tenant_id='6570156b-88a4-4db2-8b4b-4547ee4605d7', created_at=datetime.datetime(2025, 7, 1, 7, 56, 2, 793987), updated_at=datetime.datetime(2025, 7, 1, 8, 47, 58, 890384), is_public=True, is_archived=False, tags=['ChatPromptTemplate'], original_repo_id=None, upstream_repo_id=None, owner='innovationlab', full_name='innovationlab/next_question_tool_response', num_likes=0, num_downloads=435, num_views=17, liked_by_auth_user=False, last_commit_hash='a022591775a84e7e01b1f78faf0a9a9bc3813eb252537b862ab335ef3e876ea9', num_commits=3, original_repo_full_name=None, upstream_repo_full_name=None), Prompt(repo_handle='single_select_question_usage', description='', readme='', id='f3ce0941-bed5-4e7d-9d75-98bf0f592b84', tenant_id='6570156b-88a4-4db2-8b4b-4547ee4605d7', created_at=datetime.datetime(2025, 7, 1, 8, 15, 39, 894993), updated_at=datetime.datetime(2025, 7, 1, 8, 47, 54, 386414), is_public=True, is_archived=False, tags=['ChatPromptTemplate'], original_repo_id=None, upstream_repo_id=None, owner='innovationlab', full_name='innovationlab/single_select_question_usage', num_likes=0, num_downloads=471, num_views=4, liked_by_auth_user=False, last_commit_hash='bd434001fe9273f75405088fbc86bafd57142fadfdc40e7f43eb6aab024f53a7', num_commits=1, original_repo_full_name=None, upstream_repo_full_name=None), Prompt(repo_handle='date_question_usage', description='', readme='', id='e8cc2b50-3af2-45d0-8e1e-0fc6fefd777f', tenant_id='6570156b-88a4-4db2-8b4b-4547ee4605d7', created_at=datetime.datetime(2025, 7, 1, 8, 16, 10, 127266), updated_at=datetime.datetime(2025, 7, 1, 8, 47, 50, 695233), is_public=True, is_archived=False, tags=['ChatPromptTemplate'], original_repo_id=None, upstream_repo_id=None, owner='innovationlab', full_name='innovationlab/date_question_usage', num_likes=0, num_downloads=472, num_views=2, liked_by_auth_user=False, last_commit_hash='5766657b94268a8a09988b98b178ece4467639d314e7b70f6b64f5bbb97f5bc1', num_commits=1, original_repo_full_name=None, upstream_repo_full_name=None), Prompt(repo_handle='text_question_usage', description='', readme='', id='6ccc659a-d96a-4a25-b265-7f3a6b199bf4', tenant_id='6570156b-88a4-4db2-8b4b-4547ee4605d7', created_at=datetime.datetime(2025, 7, 1, 8, 16, 43, 496054), updated_at=datetime.datetime(2025, 7, 1, 8, 47, 46, 378839), is_public=True, is_archived=False, tags=['ChatPromptTemplate'], original_repo_id=None, upstream_repo_id=None, owner='innovationlab', full_name='innovationlab/text_question_usage', num_likes=0, num_downloads=470, num_views=2, liked_by_auth_user=False, last_commit_hash='a325108c010bb70541307af655c08b842ab863d5557607891e4b0c66470f7bc6', num_commits=1, original_repo_full_name=None, upstream_repo_full_name=None), Prompt(repo_handle='date_range_question_usage', description='', readme='', id='8bee21a1-b1fe-4dd8-ad2f-b85ad9bd7b00', tenant_id='6570156b-88a4-4db2-8b4b-4547ee4605d7', created_at=datetime.datetime(2025, 7, 1, 8, 17, 6, 697021), updated_at=datetime.datetime(2025, 7, 1, 8, 47, 42, 482170), is_public=True, is_archived=False, tags=['ChatPromptTemplate'], original_repo_id=None, upstream_repo_id=None, owner='innovationlab', full_name='innovationlab/date_range_question_usage', num_likes=0, num_downloads=466, num_views=4, liked_by_auth_user=False, last_commit_hash='709f16161c2707a5c827b70474862606752c3d92a5262096405caa60402034f8', num_commits=1, original_repo_full_name=None, upstream_repo_full_name=None), Prompt(repo_handle='appointment_selection_question_usage', description='', readme='', id='4f4aceda-2173-4cb2-a297-bcc134455d6f', tenant_id='6570156b-88a4-4db2-8b4b-4547ee4605d7', created_at=datetime.datetime(2025, 7, 1, 8, 17, 34, 579915), updated_at=datetime.datetime(2025, 7, 1, 8, 47, 38, 266852), is_public=True, is_archived=False, tags=['ChatPromptTemplate'], original_repo_id=None, upstream_repo_id=None, owner='innovationlab', full_name='innovationlab/appointment_selection_question_usage', num_likes=0, num_downloads=428, num_views=3, liked_by_auth_user=False, last_commit_hash='cb79886a3a8033cf4021f913f0c443265805d26afeb0c5f9a3ae731237ac2b67', num_commits=1, original_repo_full_name=None, upstream_repo_full_name=None), Prompt(repo_handle='standard_workflow', description='', readme='', id='ad431809-57f5-4022-9f50-203b8760ea4e', tenant_id='6570156b-88a4-4db2-8b4b-4547ee4605d7', created_at=datetime.datetime(2025, 7, 1, 8, 22, 54, 567891), updated_at=datetime.datetime(2025, 7, 1, 8, 47, 33, 787348), is_public=True, is_archived=False, tags=['ChatPromptTemplate'], original_repo_id=None, upstream_repo_id=None, owner='innovationlab', full_name='innovationlab/standard_workflow', num_likes=0, num_downloads=401, num_views=4, liked_by_auth_user=False, last_commit_hash='370b7849ee8c3112065494d0e849c3ed832275a6b906f4409cf3c0b934fa08f0', num_commits=1, original_repo_full_name=None, upstream_repo_full_name=None), Prompt(repo_handle='availability_workflow', description='', readme='', id='58c15764-1360-4aad-bf47-0c3c51e68db7', tenant_id='6570156b-88a4-4db2-8b4b-4547ee4605d7', created_at=datetime.datetime(2025, 7, 1, 8, 23, 49, 611029), updated_at=datetime.datetime(2025, 7, 1, 8, 47, 23, 869911), is_public=True, is_archived=False, tags=['ChatPromptTemplate'], original_repo_id=None, upstream_repo_id=None, owner='innovationlab', full_name='innovationlab/availability_workflow', num_likes=0, num_downloads=388, num_views=3, liked_by_auth_user=False, last_commit_hash='5f34e8c5e47a32f7384e4684209fd69772dcd626217c526f8e0c39ed9d5cec79', num_commits=1, original_repo_full_name=None, upstream_repo_full_name=None), Prompt(repo_handle='missing_subfields_next_question_response', description='', readme='', id='aeef4554-91db-482c-8edb-fdb73c97c019', tenant_id='6570156b-88a4-4db2-8b4b-4547ee4605d7', created_at=datetime.datetime(2025, 7, 1, 8, 31, 48, 337944), updated_at=datetime.datetime(2025, 7, 1, 8, 47, 19, 271721), is_public=True, is_archived=False, tags=['ChatPromptTemplate'], original_repo_id=None, upstream_repo_id=None, owner='innovationlab', full_name='innovationlab/missing_subfields_next_question_response', num_likes=0, num_downloads=387, num_views=3, liked_by_auth_user=False, last_commit_hash='437f236d7d472979b88bc1110a59dcef32933d9f690dbf1998f501985f5c7b29', num_commits=2, original_repo_full_name=None, upstream_repo_full_name=None), Prompt(repo_handle='composite_question', description='', readme='', id='5d8fe438-6160-4f6c-9ef4-4124e328ecca', tenant_id='e61c78a9-591d-5f57-a34c-3c47b8effc81', created_at=datetime.datetime(2025, 7, 1, 2, 28, 48, 515687), updated_at=datetime.datetime(2025, 7, 1, 2, 29, 52, 698745), is_public=True, is_archived=False, tags=['ChatPromptTemplate'], original_repo_id=None, upstream_repo_id=None, owner='okjkjkjk', full_name='okjkjkjk/composite_question', num_likes=0, num_downloads=7, num_views=3, liked_by_auth_user=False, last_commit_hash='c312175b7dabd53920a5dd57fd1d741bbbe8663e1dd7c24bb9b11f2631ab3ac7', num_commits=1, original_repo_full_name=None, upstream_repo_full_name=None), Prompt(repo_handle='snflktest', description='Modifying it for our v2 use case.', readme='', id='98b73342-5907-4d69-98ec-e33d4d535928', tenant_id='986e4058-521e-4eb5-aa85-bb9e1b6ecbd7', created_at=datetime.datetime(2025, 6, 9, 19, 32, 9, 498238), updated_at=datetime.datetime(2025, 6, 30, 17, 19, 12, 136753), is_public=True, is_archived=False, tags=['ChatPromptTemplate'], original_repo_id='4b23c62d-ff3d-4481-af3f-c80175e2aa7e', upstream_repo_id='4b23c62d-ff3d-4481-af3f-c80175e2aa7e', owner='testavnd', full_name='testavnd/snflktest', num_likes=0, num_downloads=231, num_views=28, liked_by_auth_user=False, last_commit_hash='e6d68543a664b774561fc27ab7f656e938318d57ce7b56f697f394e1c22f9d92', num_commits=11, original_repo_full_name='langchain-ai/sql-query-system-prompt', upstream_repo_full_name='langchain-ai/sql-query-system-prompt'), Prompt(repo_handle='ocr_generator', description='', readme='', id='e4781379-978c-42c2-8810-535a821c1796', tenant_id='3011caa3-3bcf-49f7-b631-ff614f178664', created_at=datetime.datetime(2024, 11, 19, 18, 46, 41, 371577), updated_at=datetime.datetime(2025, 6, 30, 16, 48, 16, 773083), is_public=True, is_archived=False, tags=['ChatPromptTemplate', 'English'], original_repo_id=None, upstream_repo_id=None, owner='ciudadela', full_name='ciudadela/ocr_generator', num_likes=0, num_downloads=114619, num_views=360, liked_by_auth_user=False, last_commit_hash='c3053a4e957c60e0675a7ab401c47af468c4649a21bdc4c401b36b0590a08739', num_commits=37, original_repo_full_name=None, upstream_repo_full_name=None), Prompt(repo_handle='jscardagent_1', description='', readme='', id='85c713b6-707e-4246-916a-0b56acd76067', tenant_id='5aac334a-5c11-53dc-80f8-97261172995b', created_at=datetime.datetime(2025, 6, 27, 2, 12, 19, 528769), updated_at=datetime.datetime(2025, 6, 30, 2, 27, 4, 157469), is_public=True, is_archived=False, tags=['ChatPromptTemplate'], original_repo_id=None, upstream_repo_id=None, owner='jstools', full_name='jstools/jscardagent_1', num_likes=0, num_downloads=7, num_views=7, liked_by_auth_user=False, last_commit_hash='4cbeebac9c9c4e12299a9f79a379452a0324d4995e296a513c3efd4aee6365ee', num_commits=3, original_repo_full_name=None, upstream_repo_full_name=None), Prompt(repo_handle='sciscigpt_analytics_specialist', description='', readme='', id='a48e2ee5-14d1-4120-9a37-6be5882e8844', tenant_id='270a5a16-926d-52a7-bb69-8844ea8ae026', created_at=datetime.datetime(2025, 1, 6, 18, 7, 3, 275995), updated_at=datetime.datetime(2025, 6, 29, 5, 14, 42, 104420), is_public=True, is_archived=False, tags=['ChatPromptTemplate'], original_repo_id=None, upstream_repo_id=None, owner='erzhuoshao', full_name='erzhuoshao/sciscigpt_analytics_specialist', num_likes=0, num_downloads=5256, num_views=118, liked_by_auth_user=False, last_commit_hash='0d6fb648217772e2f3df9efbe10e23d9d333ad5b032902fc93db0d09405399ec', num_commits=16, original_repo_full_name=None, upstream_repo_full_name=None), Prompt(repo_handle='sciscigpt-visual-eval', description='', readme='', id='b7907df6-8a42-4aa2-8b16-2f15d0971953', tenant_id='270a5a16-926d-52a7-bb69-8844ea8ae026', created_at=datetime.datetime(2025, 1, 21, 5, 25, 44, 319273), updated_at=datetime.datetime(2025, 6, 28, 20, 28, 55, 802807), is_public=True, is_archived=False, tags=['ChatPromptTemplate'], original_repo_id=None, upstream_repo_id=None, owner='erzhuoshao', full_name='erzhuoshao/sciscigpt-visual-eval', num_likes=0, num_downloads=2238, num_views=37, liked_by_auth_user=False, last_commit_hash='ba045cff5bd21c4b130465df88fdaec74abeb7651fa2b09842f364c4097ef4e2', num_commits=6, original_repo_full_name=None, upstream_repo_full_name=None), Prompt(repo_handle='sciscigpt_research_manager', description='', readme='', id='1156658e-e9ea-4a1e-93df-b75b7655dbbc', tenant_id='270a5a16-926d-52a7-bb69-8844ea8ae026', created_at=datetime.datetime(2025, 1, 6, 18, 5, 8, 950343), updated_at=datetime.datetime(2025, 6, 28, 19, 56, 26, 100941), is_public=True, is_archived=False, tags=['ChatPromptTemplate'], original_repo_id=None, upstream_repo_id=None, owner='erzhuoshao', full_name='erzhuoshao/sciscigpt_research_manager', num_likes=0, num_downloads=3816, num_views=96, liked_by_auth_user=False, last_commit_hash='407368539eeecc33983310201d78e9c6442257be7465594d561fc3f34d68edc0', num_commits=18, original_repo_full_name=None, upstream_repo_full_name=None), Prompt(repo_handle='critique_template', description='', readme='', id='27cb4613-63a1-4d8b-af7c-a4fa79c94f58', tenant_id='89d13e2b-4e2d-5868-be90-28be569d7b47', created_at=datetime.datetime(2025, 6, 28, 19, 41, 47, 887971), updated_at=datetime.datetime(2025, 6, 28, 19, 46, 12, 600469), is_public=True, is_archived=False, tags=['ChatPromptTemplate'], original_repo_id=None, upstream_repo_id=None, owner='eladlev', full_name='eladlev/critique_template', num_likes=0, num_downloads=39, num_views=12, liked_by_auth_user=False, last_commit_hash='33d271498461d958831d339493232f1344b7d1ccd47bbf3b726e5cbe6b8a7d8a', num_commits=3, original_repo_full_name=None, upstream_repo_full_name=None), Prompt(repo_handle='sciscigpt_database_specialist', description='', readme='', id='39959981-3e39-4734-9a81-9a7007443003', tenant_id='270a5a16-926d-52a7-bb69-8844ea8ae026', created_at=datetime.datetime(2025, 1, 6, 18, 5, 48, 677879), updated_at=datetime.datetime(2025, 6, 28, 17, 30, 19, 254027), is_public=True, is_archived=False, tags=['ChatPromptTemplate'], original_repo_id=None, upstream_repo_id=None, owner='erzhuoshao', full_name='erzhuoshao/sciscigpt_database_specialist', num_likes=0, num_downloads=6256, num_views=91, liked_by_auth_user=False, last_commit_hash='b8fb5bcb2f4f6ae523b93cddc623d7bbec52fe65e3d6cb77e6c68e008ff3d8d2', num_commits=13, original_repo_full_name=None, upstream_repo_full_name=None), Prompt(repo_handle='giga_prompt9_1', description='', readme='', id='b436d051-1c6a-4275-bc32-7b76a143cb19', tenant_id='d68a87f8-fe23-42ba-826b-e7684a5a447e', created_at=datetime.datetime(2025, 6, 27, 20, 31, 11, 75065), updated_at=datetime.datetime(2025, 6, 27, 20, 32, 2, 4493), is_public=True, is_archived=False, tags=['StringPromptTemplate'], original_repo_id='0312b731-1f2a-4f9a-b0e4-a2e91924cf7e', upstream_repo_id='2114c8c5-973b-4b72-8de0-cf733a1e29b5', owner='pipipupu', full_name='pipipupu/giga_prompt9_1', num_likes=0, num_downloads=134, num_views=3, liked_by_auth_user=False, last_commit_hash='00e814fd5bcf1807e17fd97386753e5bfb688131832e3adb5e79ff3efeefa04a', num_commits=4, original_repo_full_name='feefe/wewewqe', upstream_repo_full_name='pipipupu/giga_prompt9'), Prompt(repo_handle='cetec-qa', description='', readme='', id='a599c1fd-4db7-4fc4-9a72-7057becd9e63', tenant_id='81e485d8-00a6-48b3-9c11-9798a07afd80', created_at=datetime.datetime(2025, 6, 27, 17, 58, 29, 679500), updated_at=datetime.datetime(2025, 6, 27, 20, 18, 45, 665485), is_public=True, is_archived=False, tags=['ChatPromptTemplate', 'Agents'], original_repo_id=None, upstream_repo_id=None, owner='kingfisher', full_name='kingfisher/cetec-qa', num_likes=0, num_downloads=411, num_views=9, liked_by_auth_user=False, last_commit_hash='c2e62348ad5edd79df0e419c69d13d42d65f329212648912224c110a6625385a', num_commits=2, original_repo_full_name=None, upstream_repo_full_name=None), Prompt(repo_handle='retrieval-qa-chat', description='', readme='', id='cdfcb1c1-82b8-4f25-b29c-afd38d8a67a2', tenant_id='81e485d8-00a6-48b3-9c11-9798a07afd80', created_at=datetime.datetime(2025, 6, 27, 18, 3, 56, 464147), updated_at=datetime.datetime(2025, 6, 27, 18, 7, 11, 255052), is_public=True, is_archived=False, tags=['ChatPromptTemplate'], original_repo_id='dbaf9085-8851-476e-a7c6-d1eac79db06b', upstream_repo_id='dbaf9085-8851-476e-a7c6-d1eac79db06b', owner='kingfisher', full_name='kingfisher/retrieval-qa-chat', num_likes=0, num_downloads=177, num_views=13, liked_by_auth_user=False, last_commit_hash='fabb04cd251cbc8dc5147f9bedf8e8c61bac6247bc145cbd8ec4ac7098bec79c', num_commits=3, original_repo_full_name='langchain-ai/retrieval-qa-chat', upstream_repo_full_name='langchain-ai/retrieval-qa-chat'), Prompt(repo_handle='simple-question', description='', readme='', id='6a5e4e5f-f0d9-44de-99b6-52f637bb39ac', tenant_id='961b583a-524e-533d-ad7a-380f0820a4bc', created_at=datetime.datetime(2025, 6, 27, 1, 47, 42, 527124), updated_at=datetime.datetime(2025, 6, 27, 1, 48, 47, 519645), is_public=True, is_archived=False, tags=['ChatPromptTemplate'], original_repo_id=None, upstream_repo_id=None, owner='mahimairaja', full_name='mahimairaja/simple-question', num_likes=0, num_downloads=7, num_views=1, liked_by_auth_user=False, last_commit_hash='82d41ab404df83e187fec95c665d5410191ee3b83135aa2281f1d74caf3c4d96', num_commits=1, original_repo_full_name=None, upstream_repo_full_name=None), Prompt(repo_handle='framework_c', description='', readme='', id='576809b7-b79c-415f-9a35-e25e44536d64', tenant_id='42045c14-fb5b-4cf5-8748-4e0a3e3ef721', created_at=datetime.datetime(2025, 6, 27, 1, 26, 10, 827132), updated_at=datetime.datetime(2025, 6, 27, 1, 26, 30, 970811), is_public=True, is_archived=False, tags=['ChatPromptTemplate'], original_repo_id=None, upstream_repo_id=None, owner='ernie0115', full_name='ernie0115/framework_c', num_likes=0, num_downloads=9, num_views=2, liked_by_auth_user=False, last_commit_hash='ecf3fe148e2039bfce7b026c4f0a8049d09ed75f72e2112c6b473d1b580a9930', num_commits=1, original_repo_full_name=None, upstream_repo_full_name=None), Prompt(repo_handle='trendytech', description='', readme='', id='c51477e9-9e17-4d8c-a718-57657d192414', tenant_id='3d4f4021-2d2c-454f-9900-0aa475c4d487', created_at=datetime.datetime(2025, 6, 26, 9, 28, 35, 500721), updated_at=datetime.datetime(2025, 6, 26, 9, 29, 13, 663035), is_public=True, is_archived=False, tags=['ChatPromptTemplate'], original_repo_id=None, upstream_repo_id=None, owner='trendytech', full_name='trendytech/trendytech', num_likes=0, num_downloads=7, num_views=1, liked_by_auth_user=False, last_commit_hash='5bcfded58b7a4b6a9ca64534361b5357a80dabe2106028c8450cad831ae5c06b', num_commits=1, original_repo_full_name=None, upstream_repo_full_name=None), Prompt(repo_handle='framework_b', description='', readme='', id='21110231-3ca8-4e50-bcb8-a952267fa698', tenant_id='42045c14-fb5b-4cf5-8748-4e0a3e3ef721', created_at=datetime.datetime(2025, 6, 26, 8, 8, 58, 79385), updated_at=datetime.datetime(2025, 6, 26, 8, 15, 13, 547772), is_public=True, is_archived=False, tags=['ChatPromptTemplate'], original_repo_id=None, upstream_repo_id=None, owner='ernie0115', full_name='ernie0115/framework_b', num_likes=0, num_downloads=14, num_views=9, liked_by_auth_user=False, last_commit_hash='066780d12fc87cd2ecb8610796cac17b55a1c22ed4fd808d4a2f59b3fba81f51', num_commits=2, original_repo_full_name=None, upstream_repo_full_name=None), Prompt(repo_handle='zwave_response', description='', readme='', id='b33e35cd-5ad9-4837-8bd1-2c94dfd75b83', tenant_id='a7a36d4c-2f36-457e-810e-31989d381a01', created_at=datetime.datetime(2025, 6, 26, 5, 53, 37, 788905), updated_at=datetime.datetime(2025, 6, 26, 6, 13, 20, 642522), is_public=True, is_archived=False, tags=['ChatPromptTemplate'], original_repo_id=None, upstream_repo_id=None, owner='caso-gun', full_name='caso-gun/zwave_response', num_likes=0, num_downloads=10, num_views=3, liked_by_auth_user=False, last_commit_hash='aba6a1e1e963aa35461734f4866ce8d3bccab7aa5167e951117094a55830b395', num_commits=2, original_repo_full_name=None, upstream_repo_full_name=None), Prompt(repo_handle='message_classification_0', description='', readme='', id='e83308b8-96d7-4ae3-bf8a-b4df5f817a83', tenant_id='42045c14-fb5b-4cf5-8748-4e0a3e3ef721', created_at=datetime.datetime(2025, 6, 2, 7, 45, 13, 512164), updated_at=datetime.datetime(2025, 6, 26, 1, 46, 43, 470073), is_public=True, is_archived=False, tags=['ChatPromptTemplate'], original_repo_id=None, upstream_repo_id=None, owner='ernie0115', full_name='ernie0115/message_classification_0', num_likes=0, num_downloads=105, num_views=207, liked_by_auth_user=False, last_commit_hash='25904ebcfd161f614b5d4eb008e2fbdad47e3a0b76020d94727ab604c0738f49', num_commits=27, original_repo_full_name=None, upstream_repo_full_name=None), Prompt(repo_handle='basic-research-bot', description='', readme='', id='22a1df6a-6370-4554-b3a6-855a7ceb431a', tenant_id='14047daf-e227-41e8-89a3-e733a00d4d5e', created_at=datetime.datetime(2025, 6, 25, 23, 11, 45, 392612), updated_at=datetime.datetime(2025, 6, 25, 23, 32, 46, 846779), is_public=True, is_archived=False, tags=['ChatPromptTemplate'], original_repo_id=None, upstream_repo_id=None, owner='basic-research', full_name='basic-research/basic-research-bot', num_likes=0, num_downloads=7, num_views=20, liked_by_auth_user=False, last_commit_hash='772d57973bfeb7ffe41e15a003a1dc5a0a4ee5f40fd3a768e25b6f3be4e885d3', num_commits=2, original_repo_full_name=None, upstream_repo_full_name=None), Prompt(repo_handle='generate_prompt_gpt4_1_no_meds', description='gpt-4.1 (generate)', readme='', id='c2181d87-7ca4-400b-9dc2-e5a516212c2b', tenant_id='4b67faaf-f556-4a82-a5b3-25e7b303f718', created_at=datetime.datetime(2025, 4, 21, 19, 22, 34, 308504), updated_at=datetime.datetime(2025, 6, 25, 18, 19, 7, 730312), is_public=True, is_archived=False, tags=['ChatPromptTemplate'], original_repo_id='eaaeec00-c2e3-4d30-8aaf-3a4086772acb', upstream_repo_id='f84e239a-3a05-4c76-ae2c-f86f606d6b37', owner='mitchell-compoze', full_name='mitchell-compoze/generate_prompt_gpt4_1_no_meds', num_likes=0, num_downloads=441, num_views=41, liked_by_auth_user=False, last_commit_hash='d4bdac10a1546eb2c46218eea9dda94b36f5a4f32ea0ee9594d832539ad40fca', num_commits=13, original_repo_full_name='mitchell-compoze/agent_prompt', upstream_repo_full_name='mitchell-compoze/generate_prompt_gpt4_1'), Prompt(repo_handle='rag-prompt', description='This is a prompt for retrieval-augmented-generation. It is useful for chat, QA, or other applications that rely on passing context to an LLM.', readme='See documentation here:\\nhttps://python.langchain.com/v0.2/docs/tutorials/rag/', id='5bf48038-57ad-41d7-ab9e-9d8e9dd2fd14', tenant_id='2a9e15cb-2d66-4666-b2e0-8de57a70a493', created_at=datetime.datetime(2025, 6, 25, 13, 40, 37, 235338), updated_at=datetime.datetime(2025, 6, 25, 13, 40, 37, 235338), is_public=True, is_archived=False, tags=['ChatPromptTemplate', 'QA over documents', 'English'], original_repo_id='f44e99b0-0be3-44f7-8028-5b1219b042b4', upstream_repo_id='f44e99b0-0be3-44f7-8028-5b1219b042b4', owner='lukaszaugustyniakyohana', full_name='lukaszaugustyniakyohana/rag-prompt', num_likes=0, num_downloads=8, num_views=9, liked_by_auth_user=False, last_commit_hash='50442af133e61576e74536c6556cefe1fac147cad032f4377b60c436e6cdcb6e', num_commits=3, original_repo_full_name='rlm/rag-prompt', upstream_repo_full_name='rlm/rag-prompt'), Prompt(repo_handle='generate-video-prompt', description='', readme='', id='e537356c-5ef5-4cba-a4f5-84c2906f779c', tenant_id='147e246d-3157-4fd8-a493-a7661c9c519e', created_at=datetime.datetime(2025, 6, 11, 18, 21, 27, 949338), updated_at=datetime.datetime(2025, 6, 25, 13, 18, 44, 753805), is_public=True, is_archived=False, tags=['ChatPromptTemplate'], original_repo_id=None, upstream_repo_id=None, owner='l1-human-text-01', full_name='l1-human-text-01/generate-video-prompt', num_likes=0, num_downloads=42, num_views=61, liked_by_auth_user=False, last_commit_hash='15eb0f605f11784cb87a823701ac861b53a6a8d0045d008f03b943f834dd2ca6', num_commits=5, original_repo_full_name=None, upstream_repo_full_name=None), Prompt(repo_handle='expenza', description='', readme='', id='48ecb0cb-9898-4660-9758-080465f49c6c', tenant_id='8221c185-1eaf-4094-bd7d-0639bf58d7d5', created_at=datetime.datetime(2025, 6, 25, 8, 37, 32, 695066), updated_at=datetime.datetime(2025, 6, 25, 8, 37, 33, 584712), is_public=True, is_archived=False, tags=['ChatPromptTemplate'], original_repo_id=None, upstream_repo_id=None, owner='expenzathechatboat', full_name='expenzathechatboat/expenza', num_likes=0, num_downloads=6, num_views=2, liked_by_auth_user=False, last_commit_hash='b720b551c39af666a4ea09abf77647dca142b0a0599c859631aeaa6d8f4394a4', num_commits=1, original_repo_full_name=None, upstream_repo_full_name=None), Prompt(repo_handle='hi', description='', readme='', id='5e1c2ca1-1029-417e-a17a-f76b63b2d4dc', tenant_id='8221c185-1eaf-4094-bd7d-0639bf58d7d5', created_at=datetime.datetime(2025, 6, 25, 8, 33, 22, 463989), updated_at=datetime.datetime(2025, 6, 25, 8, 34, 20, 743112), is_public=True, is_archived=False, tags=['ChatPromptTemplate'], original_repo_id=None, upstream_repo_id=None, owner='expenzathechatboat', full_name='expenzathechatboat/hi', num_likes=0, num_downloads=6, num_views=3, liked_by_auth_user=False, last_commit_hash='aaa46f5ceea2169377fa46e8b458c21e248ac0b5df60856b7e990a25df726684', num_commits=2, original_repo_full_name=None, upstream_repo_full_name=None), Prompt(repo_handle='extract-claims', description='', readme='', id='b516ff59-a876-4fa9-babd-06f6572dffba', tenant_id='24feb64c-ace7-5bca-9a46-403277890bb0', created_at=datetime.datetime(2025, 6, 18, 19, 18, 42, 137043), updated_at=datetime.datetime(2025, 6, 24, 22, 6, 2, 251232), is_public=True, is_archived=False, tags=['StructuredPrompt'], original_repo_id=None, upstream_repo_id=None, owner='extract-claims', full_name='extract-claims/extract-claims', num_likes=0, num_downloads=16, num_views=29, liked_by_auth_user=False, last_commit_hash='6a11fceb16605d360c3497b933f2abaf8d120b43b78f2b72494af03702bffe6f', num_commits=11, original_repo_full_name=None, upstream_repo_full_name=None), Prompt(repo_handle='cvent_wikibot_public', description='', readme='', id='8249cb99-11a0-4569-88a5-4251adf22b17', tenant_id='40f67bed-1168-525a-bb79-81d46ffcde41', created_at=datetime.datetime(2025, 6, 24, 21, 32, 8, 563096), updated_at=datetime.datetime(2025, 6, 24, 21, 32, 9, 283136), is_public=True, is_archived=False, tags=['ChatPromptTemplate'], original_repo_id=None, upstream_repo_id=None, owner='ashes1998', full_name='ashes1998/cvent_wikibot_public', num_likes=0, num_downloads=20, num_views=2, liked_by_auth_user=False, last_commit_hash='6f75ee3ed39f0747990a3b4f5d93538579f0f1d413ade5e6e7f417ebe73b6aaa', num_commits=1, original_repo_full_name=None, upstream_repo_full_name=None), Prompt(repo_handle='v3_score_answers_to_examiner_questions', description='', readme='', id='e9ae4a8c-dc63-42a9-a6f1-b700e377bf3e', tenant_id='9bdf2da0-bd79-499e-95f3-344a09bd0e02', created_at=datetime.datetime(2025, 6, 24, 13, 57, 47, 675694), updated_at=datetime.datetime(2025, 6, 24, 14, 0, 38, 158355), is_public=True, is_archived=False, tags=['ChatPromptTemplate'], original_repo_id=None, upstream_repo_id=None, owner='innocifra', full_name='innocifra/v3_score_answers_to_examiner_questions', num_likes=0, num_downloads=12, num_views=6, liked_by_auth_user=False, last_commit_hash='c18d62180f34299b8d96a61a9c1aa138dbe1ac51bf7bff38e443faa415b7c97f', num_commits=2, original_repo_full_name=None, upstream_repo_full_name=None), Prompt(repo_handle='v3_generate_questions_to_start_exam', description='', readme='', id='fa04fe96-5faa-4961-a86c-f1703d24335d', tenant_id='9bdf2da0-bd79-499e-95f3-344a09bd0e02', created_at=datetime.datetime(2025, 6, 24, 13, 55, 0, 182387), updated_at=datetime.datetime(2025, 6, 24, 13, 57, 10, 280239), is_public=True, is_archived=False, tags=['ChatPromptTemplate'], original_repo_id=None, upstream_repo_id=None, owner='innocifra', full_name='innocifra/v3_generate_questions_to_start_exam', num_likes=0, num_downloads=16, num_views=5, liked_by_auth_user=False, last_commit_hash='1042b9f35a17b246ed8ea0d775dcc2f7f73554c3853ab2064594ec5515e842c5', num_commits=2, original_repo_full_name=None, upstream_repo_full_name=None), Prompt(repo_handle='v3_exam_assistant_chat_instruction', description='', readme='', id='f2916ee4-9485-49b2-a54c-c9eb6dd2d5fd', tenant_id='9bdf2da0-bd79-499e-95f3-344a09bd0e02', created_at=datetime.datetime(2025, 6, 24, 13, 52, 30, 625862), updated_at=datetime.datetime(2025, 6, 24, 13, 54, 3, 583754), is_public=True, is_archived=False, tags=['ChatPromptTemplate'], original_repo_id=None, upstream_repo_id=None, owner='innocifra', full_name='innocifra/v3_exam_assistant_chat_instruction', num_likes=0, num_downloads=40, num_views=3, liked_by_auth_user=False, last_commit_hash='ee200dec04efabbb4c0ebcb2469407cac820a541c99fd50c7b2cf391b331cc0e', num_commits=2, original_repo_full_name=None, upstream_repo_full_name=None)] total=8369\n"
     ]
    }
   ],
   "source": [
    "# Pull a specific version of a prompt using commit hash\n",
    "# First, let's list available prompts to see versions\n",
    "try:\n",
    "    prompts = client.list_prompts()\n",
    "    print(\"Available prompts:\", prompts)\n",
    "except Exception as e:\n",
    "    print(f\"Error listing prompts: {e}\")"
   ]
  },
  {
   "cell_type": "code",
   "execution_count": 15,
   "metadata": {},
   "outputs": [
    {
     "name": "stdout",
     "output_type": "stream",
     "text": [
      "Latest chat prompt:\n",
      "System: You are an expert political analyst. Analyze the provided text for ideological positioning on multiple dimensions.\n",
      "Human: Please analyze this text for political ideology across economic, social dimensions: Sample text\n"
     ]
    }
   ],
   "source": [
    "# Pull a prompt with specific commit hash (example)\n",
    "# Note: Replace 'commit_hash' with actual commit hash from your prompt\n",
    "try:\n",
    "    # This is an example - you'd use actual commit hash\n",
    "    # specific_version = client.pull_prompt(\"political-analysis-simple\", commit_hash=\"abc123\")\n",
    "    # print(f\"Pulled specific version: {specific_version}\")\n",
    "    \n",
    "    # For now, just pull the latest version\n",
    "    latest_version = client.pull_prompt(\"political-analysis-chat\")\n",
    "    print(\"Latest chat prompt:\")\n",
    "    print(latest_version.format(dimensions=\"economic, social\", text=\"Sample text\"))\n",
    "except Exception as e:\n",
    "    print(f\"Error pulling prompt: {e}\")"
   ]
  },
  {
   "cell_type": "markdown",
   "metadata": {},
   "source": [
    "## Using Pulled Prompts with OpenAI"
   ]
  },
  {
   "cell_type": "code",
   "execution_count": 16,
   "metadata": {},
   "outputs": [
    {
     "name": "stdout",
     "output_type": "stream",
     "text": [
      "Analysis result:\n",
      "The text suggests a mixed ideological positioning on economic and environmental dimensions. \n",
      "\n",
      "On the economic dimension, the call to reduce corporate tax rates aligns with a more conservative or right-leaning ideology that emphasizes free-market principles, limited government intervention, and promoting business growth through lower taxes. This stance is often associated with beliefs in trickle-down economics and the idea that reducing taxes on corporations will stimulate economic growth and job creation.\n",
      "\n",
      "On the environmental dimension, the proposal to increase funding for renewable energy initiatives reflects a more progressive or left-leaning ideology that prioritizes environmental sustainability, climate action, and transitioning to clean energy sources. This stance typically involves government intervention and investment in renewable energy technologies to combat climate change and reduce reliance on fossil fuels.\n",
      "\n",
      "Overall, the text's ideological positioning appears to be a blend of conservative economic policies with progressive environmental policies, advocating for a balanced approach that addresses both economic growth and environmental concerns.\n"
     ]
    }
   ],
   "source": [
    "# Pull a prompt and use it with OpenAI\n",
    "pulled_chat_prompt = client.pull_prompt(\"political-analysis-chat\")\n",
    "\n",
    "# Create OpenAI model\n",
    "llm = ChatOpenAI(model=\"gpt-3.5-turbo\", temperature=0.1)\n",
    "\n",
    "# Create a chain\n",
    "chain = pulled_chat_prompt | llm | StrOutputParser()\n",
    "\n",
    "# Test the chain\n",
    "sample_text = \"The government should increase funding for renewable energy initiatives while reducing corporate tax rates.\"\n",
    "result = chain.invoke({\n",
    "    \"dimensions\": \"economic and environmental\",\n",
    "    \"text\": sample_text\n",
    "})\n",
    "\n",
    "print(\"Analysis result:\")\n",
    "print(result)"
   ]
  },
  {
   "cell_type": "markdown",
   "metadata": {},
   "source": [
    "## Working with Prompt Versions"
   ]
  },
  {
   "cell_type": "code",
   "execution_count": 17,
   "metadata": {},
   "outputs": [
    {
     "name": "stdout",
     "output_type": "stream",
     "text": [
      "Version 1 pushed: https://smith.langchain.com/prompts/political-leaning-rater/95c846dd?organizationId=ea02ea98-db62-5de0-bda4-16991a640a1b\n",
      "Version 2 pushed: https://smith.langchain.com/prompts/political-leaning-rater/c6eff0b0?organizationId=ea02ea98-db62-5de0-bda4-16991a640a1b\n"
     ]
    }
   ],
   "source": [
    "# Create multiple versions of the same prompt\n",
    "prompt_v1 = PromptTemplate.from_template(\n",
    "    \"Rate the political leaning of this text: {text}\"\n",
    ")\n",
    "\n",
    "prompt_v2 = PromptTemplate.from_template(\n",
    "    \"On a scale of 1-10, rate the political leaning of this text (1=very liberal, 10=very conservative): {text}\"\n",
    ")\n",
    "\n",
    "# Push version 1\n",
    "url_v1 = client.push_prompt(\"political-leaning-rater\", object=prompt_v1)\n",
    "print(f\"Version 1 pushed: {url_v1}\")\n",
    "\n",
    "# Push version 2 (this will create a new version)\n",
    "url_v2 = client.push_prompt(\"political-leaning-rater\", object=prompt_v2)\n",
    "print(f\"Version 2 pushed: {url_v2}\")"
   ]
  },
  {
   "cell_type": "code",
   "execution_count": 18,
   "metadata": {},
   "outputs": [
    {
     "name": "stdout",
     "output_type": "stream",
     "text": [
      "Latest version:\n",
      "On a scale of 1-10, rate the political leaning of this text (1=very liberal, 10=very conservative): Sample political statement\n"
     ]
    }
   ],
   "source": [
    "# Compare different versions\n",
    "latest_prompt = client.pull_prompt(\"political-leaning-rater\")\n",
    "print(\"Latest version:\")\n",
    "print(latest_prompt.format(text=\"Sample political statement\"))\n",
    "\n",
    "# To pull a specific version, you would use the commit hash\n",
    "# specific_prompt = client.pull_prompt(\"political-leaning-rater\", commit_hash=\"your_commit_hash\")\n",
    "# print(\"Specific version:\")\n",
    "# print(specific_prompt.format(text=\"Sample political statement\"))"
   ]
  },
  {
   "cell_type": "markdown",
   "metadata": {},
   "source": [
    "## Best Practices"
   ]
  },
  {
   "cell_type": "code",
   "execution_count": 19,
   "metadata": {},
   "outputs": [
    {
     "name": "stdout",
     "output_type": "stream",
     "text": [
      "Advanced prompt pushed with metadata: https://smith.langchain.com/prompts/advanced-political-analyzer/044cfd24?organizationId=ea02ea98-db62-5de0-bda4-16991a640a1b\n"
     ]
    }
   ],
   "source": [
    "# Best practice: Add metadata and tags when pushing prompts\n",
    "advanced_prompt = ChatPromptTemplate.from_messages([\n",
    "    (\"system\", \"You are an expert in political text analysis with expertise in {domain}.\"),\n",
    "    (\"human\", \"Analyze this {content_type} for ideological markers: {content}\")\n",
    "])\n",
    "\n",
    "# Push with metadata\n",
    "url = client.push_prompt(\n",
    "    \"advanced-political-analyzer\", \n",
    "    object=advanced_prompt,\n",
    "    tags=[\"political-analysis\", \"ideology\", \"text-analysis\"]\n",
    ")\n",
    "print(f\"Advanced prompt pushed with metadata: {url}\")"
   ]
  },
  {
   "cell_type": "code",
   "execution_count": 20,
   "metadata": {},
   "outputs": [
    {
     "name": "stdout",
     "output_type": "stream",
     "text": [
      "Advanced analysis:\n",
      "In the provided speech transcript, there are several ideological markers that can be identified:\n",
      "\n",
      "1. \"Fiscal responsibility\": This phrase indicates a focus on managing government finances in a prudent and sustainable manner. It suggests a commitment to controlling spending, reducing deficits, and maintaining a balanced budget. Politicians who emphasize fiscal responsibility often advocate for limited government intervention in the economy and prioritize reducing the national debt.\n",
      "\n",
      "2. \"Social programs\": The mention of social programs suggests a belief in the role of government in providing assistance and support to individuals in need. Advocates for social programs typically argue for policies that address social inequalities, promote social welfare, and ensure a basic standard of living for all citizens.\n",
      "\n",
      "3. \"Help our most vulnerable citizens\": This phrase reflects a concern for the well-being of marginalized or disadvantaged groups within society. It implies a commitment to addressing issues of poverty, inequality, and social injustice through targeted government interventions and support programs.\n",
      "\n",
      "Overall, the speech transcript indicates a nuanced ideological stance that seeks to strike a balance between fiscal responsibility and social welfare. It suggests a recognition of the importance of both prudent financial management and the provision of social safety nets for vulnerable populations. This ideological position may align with a moderate or centrist political perspective that values both economic stability and social equity.\n"
     ]
    }
   ],
   "source": [
    "# Test the advanced prompt\n",
    "pulled_advanced = client.pull_prompt(\"advanced-political-analyzer\")\n",
    "llm = ChatOpenAI(model=\"gpt-3.5-turbo\", temperature=0.1)\n",
    "chain = pulled_advanced | llm | StrOutputParser()\n",
    "\n",
    "result = chain.invoke({\n",
    "    \"domain\": \"congressional speeches\",\n",
    "    \"content_type\": \"speech transcript\",\n",
    "    \"content\": \"We must balance fiscal responsibility with social programs that help our most vulnerable citizens.\"\n",
    "})\n",
    "\n",
    "print(\"Advanced analysis:\")\n",
    "print(result)"
   ]
  }
 ],
 "metadata": {
  "kernelspec": {
   "display_name": ".venv",
   "language": "python",
   "name": "python3"
  },
  "language_info": {
   "codemirror_mode": {
    "name": "ipython",
    "version": 3
   },
   "file_extension": ".py",
   "mimetype": "text/x-python",
   "name": "python",
   "nbconvert_exporter": "python",
   "pygments_lexer": "ipython3",
   "version": "3.11.11"
  }
 },
 "nbformat": 4,
 "nbformat_minor": 4
}
